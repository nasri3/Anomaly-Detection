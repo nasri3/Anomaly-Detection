{
 "cells": [
  {
   "cell_type": "code",
   "execution_count": 1,
   "metadata": {},
   "outputs": [],
   "source": [
    "from chronicle_recognition import Chronicle\n",
    "from chronicle_generator import *\n",
    "from monotoring import *\n",
    "from random import uniform\n",
    "import queue\n",
    "import threading"
   ]
  },
  {
   "cell_type": "code",
   "execution_count": 2,
   "metadata": {},
   "outputs": [],
   "source": [
    "from multiprocessing.dummy import Pool as ThreadPool\n",
    "\n",
    "# function to be mapped over\n",
    "def calculateParallel(DB_seq, threads=2):\n",
    "    pool = ThreadPool(threads)\n",
    "    results = pool.map(KNN, DB_seq)\n",
    "    pool.close()\n",
    "    pool.join()\n",
    "    return results"
   ]
  },
  {
   "cell_type": "code",
   "execution_count": 6,
   "metadata": {
    "scrolled": false
   },
   "outputs": [
    {
     "name": "stdout",
     "output_type": "stream",
     "text": [
      "====================\n",
      "Chronicle DB generation\n",
      "====================\n",
      "\n",
      "======== PATTERNS =======\n",
      "3\n",
      "C60\t {{8,8}}\n",
      "0,1: (-inf, inf)\n",
      "tid: [0, 3, 4, 1, 5, 6, 2]\n",
      "C61\t {{9,1}}\n",
      "0,1: (-inf, inf)\n",
      "tid: [6, 1, 4, 0, 5, 3]\n",
      "C62\t {{1,1,13,15}}\n",
      "0,1: (-51.711960618298406, 386.71933696843234)\n",
      "0,2: (66.28221663728954, 217.3755641118478)\n",
      "0,3: (129.49851403429142, 421.06855575350437)\n",
      "1,2: (-169.34377285658448, 117.99417725558794)\n",
      "1,3: (34.349218785072054, 181.21047465258982)\n",
      "2,3: (63.21629739700188, 203.69299164165653)\n",
      "tid: [5, 2, 1, 3, 6, 4, 0]\n",
      "======== SEQUENCES =======\n",
      "7\n",
      "======== make_noise in CH DB =======\n"
     ]
    }
   ],
   "source": [
    "print(\"====================\\nChronicle DB generation\\n====================\\n\")\n",
    "generator=chrodb_generator(nbitems=20,l=15, lp=3)\n",
    "sequences = generator.generate(nb=10000, l=6, npat=1000, th=.0)\n",
    "\n",
    "print(\"======== PATTERNS =======\")\n",
    "DB_ch=[affectation(ch) for ch in generator.all_patterns()]\n",
    "print(len(DB_ch))\n",
    "\n",
    "#for i in range(len(DB_ch)):\n",
    "#    print(DB_ch[i])\n",
    "\n",
    "print(\"======== SEQUENCES =======\")\n",
    "DB_seq=[s.seq for s in sequences]\n",
    "print(len(DB_seq))\n",
    "#for i in range(len(DB_seq)):\n",
    "#    print(DB_seq[i])\n",
    "\n",
    "DB_ch=sort_db_ch(DB_ch)    \n",
    "print(\"======== make_noise in CH DB =======\")\n",
    "DB_ch=make_noise(DB_ch,0.7,800)\n",
    "\n",
    "def producer(DB_seq):\n",
    "    q = queue.Queue()\n",
    "    source=DB_seq\n",
    "    for item in source:\n",
    "        q.put(item)\n",
    "    return q\n"
   ]
  },
  {
   "cell_type": "code",
   "execution_count": 9,
   "metadata": {
    "scrolled": true
   },
   "outputs": [
    {
     "name": "stdout",
     "output_type": "stream",
     "text": [
      "======== Searching for a sequence in the chronicle database I =======\n",
      "Temps d execution : 96.76158543599996 secondes ---\n",
      "======== ThreadPoolExecutor Parallel research for a sequence in the chronicle database  =======\n",
      "Temps d execution : 264.498040053 secondes ---\n",
      "Temps d execution : 278.65580549899994 secondes ---\n",
      "Temps d execution : 267.5003196519999 secondes ---\n",
      "Temps d execution : 295.3320780229999 secondes ---\n",
      "Temps d execution : 270.485202158 secondes ---\n",
      "ssssss\n"
     ]
    }
   ],
   "source": [
    "import time\n",
    "y0=[]\n",
    "y1=[]\n",
    "y3=[]\n",
    "y4=[]\n",
    "print(\"======== Searching for a sequence in the chronicle database I =======\")\n",
    "start_time = time.perf_counter()\n",
    "d1=[KNN(DB_ch,seq)[0] for seq in DB_seq]\n",
    "end_time=time.perf_counter()\n",
    "y1.append(end_time - start_time)\n",
    "print(\"Temps d execution : %s secondes ---\" % (end_time - start_time))\n",
    "\"\"\"\n",
    "print(\"======== Searching for a sequence in the chronicle database divide  II =======\")\n",
    "start_time = time.perf_counter()\n",
    "d0=[KNN_Multi(DB_ch,seq) for seq in DB_seq]\n",
    "end_time=time.perf_counter()\n",
    "y0.append(end_time - start_time)\n",
    "print(\"Temps d execution : %s secondes ---\" % (end_time - start_time))\n",
    "\"\"\"\n",
    "print(\"======== ThreadPoolExecutor Parallel research for a sequence in the chronicle database  =======\")\n",
    "for i in range(1,20,4):\n",
    "    start_time = time.perf_counter()\n",
    "    d3=syn(DB_ch,DB_seq,5)\n",
    "    end_time=time.perf_counter()\n",
    "    y3.append(end_time - start_time)\n",
    "    print(\"Temps d execution : %s secondes ---\" % (end_time - start_time))\n",
    "\n",
    "\"\"\"\n",
    "print(\"======== Parallel research for a sequence in the chronicle database =======\")\n",
    "q=producer(DB_seq)\n",
    "start_time = time.perf_counter()\n",
    "d4=parallel_query_consumer(DB_ch,q,5)\n",
    "end_time=time.perf_counter()\n",
    "y4.append(end_time - start_time)\n",
    "print(\"Temps d execution : %s secondes ---\" % (end_time - start_time))\n",
    "for i in range(1,20,4):\n",
    "    q=producer(DB_seq)\n",
    "    start_time = time.perf_counter()\n",
    "    d3=parallel_query_consumer(DB_ch,q,i)\n",
    "    end_time=time.perf_counter()\n",
    "    y3.append(end_time - start_time)\n",
    "    print(\"Temps d execution : %s secondes ---\" % (end_time - start_time))\n",
    "print(y3)\n",
    "\"\"\"\n",
    "\n",
    "\n",
    "\n",
    "#print(\"Temps d execution : %s secondes ---\" % (end_time - start_time))\n",
    "print(\"ssssss\")\n",
    "#print([d1[i]-list(d3)[i] for i in range(len(d1))])"
   ]
  },
  {
   "cell_type": "code",
   "execution_count": 7,
   "metadata": {},
   "outputs": [
    {
     "data": {
      "image/png": "[encoded data removed]",
      "text/plain": [
       "<Figure size 432x288 with 1 Axes>"
      ]
     },
     "metadata": {
      "needs_background": "light"
     },
     "output_type": "display_data"
    }
   ],
   "source": [
    "import numpy as np\n",
    "import matplotlib.pyplot as plt\n",
    "\n",
    "#DB-ch=100;DB_seq=10000\n",
    "x3 = np.array([i for i in range(1,20,4)])\n",
    "y11=[y1 for i in x3]\n",
    "plt.plot(x3, y11, label='Naif') #blue\n",
    "#plt.plot(x3, y2, label='Divide')\n",
    "plt.plot(x3, y3, label='Pool') #blue\n",
    "#plt.plot(x3, y11, label='Mult')\n",
    "\n",
    "plt.legend()\n",
    "plt.show() # affiche la figure a l'ecran"
   ]
  },
  {
   "cell_type": "code",
   "execution_count": 10,
   "metadata": {},
   "outputs": [
    {
     "data": {
      "image/png": "[encoded data removed]",
      "text/plain": [
       "<Figure size 432x288 with 1 Axes>"
      ]
     },
     "metadata": {
      "needs_background": "light"
     },
     "output_type": "display_data"
    }
   ],
   "source": [
    "#DB-ch=1000;DB_seq=10000\n",
    "x3 = np.array([i for i in range(1,20,4)])\n",
    "y11=[y1 for i in x3]\n",
    "plt.plot(x3, y11, label='Naif') #blue\n",
    "#plt.plot(x3, y2, label='Divide')\n",
    "plt.plot(x3, y3, label='Pool') #blue\n",
    "#plt.plot(x3, y11, label='Mult')\n",
    "\n",
    "plt.legend()\n",
    "plt.show() # affiche la figure a l'ecran"
   ]
  },
  {
   "cell_type": "code",
   "execution_count": null,
   "metadata": {},
   "outputs": [],
   "source": [
    "def wrapper(func, *args, **kwargs):\n",
    "    def wrapped():\n",
    "        return func(*args, **kwargs)\n",
    "    return wrapped\n",
    "def fNaif(DB_seq):\n",
    "    return [KNN(DB_ch,seq)[0] for seq in DB_seq]\n",
    "def fMulti(DB_seq):\n",
    "    return parallel_query_consumer(DB_ch,q)"
   ]
  },
  {
   "cell_type": "code",
   "execution_count": 4,
   "metadata": {},
   "outputs": [],
   "source": [
    "import timeit\n",
    "wrapped1 = wrapper(fNaif,DB_seq)\n",
    "wrapped2 = wrapper(fMulti,DB_seq)\n",
    "\n",
    "\n"
   ]
  },
  {
   "cell_type": "code",
   "execution_count": 5,
   "metadata": {},
   "outputs": [
    {
     "data": {
      "text/plain": [
       "0.7408263650000002"
      ]
     },
     "execution_count": 5,
     "metadata": {},
     "output_type": "execute_result"
    }
   ],
   "source": [
    "timeit.timeit(wrapped1,number=1)"
   ]
  },
  {
   "cell_type": "code",
   "execution_count": 6,
   "metadata": {},
   "outputs": [
    {
     "name": "stderr",
     "output_type": "stream",
     "text": [
      "Exception in thread Thread-7:\n",
      "Traceback (most recent call last):\n",
      "  File \"C:\\Users\\SDC\\Anaconda3\\lib\\threading.py\", line 917, in _bootstrap_inner\n",
      "    self.run()\n",
      "  File \"C:\\Users\\SDC\\Anaconda3\\lib\\threading.py\", line 865, in run\n",
      "    self._target(*self._args, **self._kwargs)\n",
      "  File \"C:\\Users\\SDC\\Documents\\nasreddine\\Anomaly_Prediction_MultiThreading\\random_sequences_generation_master\\monotoring.py\", line 128, in query_consumer\n",
      "    queries.task_done()\n",
      "  File \"C:\\Users\\SDC\\Anaconda3\\lib\\queue.py\", line 74, in task_done\n",
      "    raise ValueError('task_done() called too many times')\n",
      "ValueError: task_done() called too many times\n",
      "\n",
      "Exception in thread Thread-12:\n",
      "Traceback (most recent call last):\n",
      "  File \"C:\\Users\\SDC\\Anaconda3\\lib\\threading.py\", line 917, in _bootstrap_inner\n",
      "    self.run()\n",
      "  File \"C:\\Users\\SDC\\Anaconda3\\lib\\threading.py\", line 865, in run\n",
      "    self._target(*self._args, **self._kwargs)\n",
      "  File \"C:\\Users\\SDC\\Documents\\nasreddine\\Anomaly_Prediction_MultiThreading\\random_sequences_generation_master\\monotoring.py\", line 128, in query_consumer\n",
      "    queries.task_done()\n",
      "  File \"C:\\Users\\SDC\\Anaconda3\\lib\\queue.py\", line 74, in task_done\n",
      "    raise ValueError('task_done() called too many times')\n",
      "ValueError: task_done() called too many times\n",
      "\n",
      "Exception in thread Thread-27:\n",
      "Traceback (most recent call last):\n",
      "  File \"C:\\Users\\SDC\\Anaconda3\\lib\\threading.py\", line 917, in _bootstrap_inner\n",
      "    self.run()\n",
      "  File \"C:\\Users\\SDC\\Anaconda3\\lib\\threading.py\", line 865, in run\n",
      "    self._target(*self._args, **self._kwargs)\n",
      "  File \"C:\\Users\\SDC\\Documents\\nasreddine\\Anomaly_Prediction_MultiThreading\\random_sequences_generation_master\\monotoring.py\", line 128, in query_consumer\n",
      "    queries.task_done()\n",
      "  File \"C:\\Users\\SDC\\Anaconda3\\lib\\queue.py\", line 74, in task_done\n",
      "    raise ValueError('task_done() called too many times')\n",
      "ValueError: task_done() called too many times\n",
      "\n",
      "Exception in thread Thread-16:\n",
      "Traceback (most recent call last):\n",
      "  File \"C:\\Users\\SDC\\Anaconda3\\lib\\threading.py\", line 917, in _bootstrap_inner\n",
      "    self.run()\n",
      "  File \"C:\\Users\\SDC\\Anaconda3\\lib\\threading.py\", line 865, in run\n",
      "    self._target(*self._args, **self._kwargs)\n",
      "  File \"C:\\Users\\SDC\\Documents\\nasreddine\\Anomaly_Prediction_MultiThreading\\random_sequences_generation_master\\monotoring.py\", line 128, in query_consumer\n",
      "    queries.task_done()\n",
      "  File \"C:\\Users\\SDC\\Anaconda3\\lib\\queue.py\", line 74, in task_done\n",
      "    raise ValueError('task_done() called too many times')\n",
      "ValueError: task_done() called too many times\n",
      "\n",
      "Exception in thread Thread-34:\n",
      "Traceback (most recent call last):\n",
      "  File \"C:\\Users\\SDC\\Anaconda3\\lib\\threading.py\", line 917, in _bootstrap_inner\n",
      "    self.run()\n",
      "  File \"C:\\Users\\SDC\\Anaconda3\\lib\\threading.py\", line 865, in run\n",
      "    self._target(*self._args, **self._kwargs)\n",
      "  File \"C:\\Users\\SDC\\Documents\\nasreddine\\Anomaly_Prediction_MultiThreading\\random_sequences_generation_master\\monotoring.py\", line 128, in query_consumer\n",
      "    queries.task_done()\n",
      "  File \"C:\\Users\\SDC\\Anaconda3\\lib\\queue.py\", line 74, in task_done\n",
      "    raise ValueError('task_done() called too many times')\n",
      "ValueError: task_done() called too many times\n",
      "\n",
      "Exception in thread Thread-69:\n",
      "Traceback (most recent call last):\n",
      "  File \"C:\\Users\\SDC\\Anaconda3\\lib\\threading.py\", line 917, in _bootstrap_inner\n",
      "    self.run()\n",
      "  File \"C:\\Users\\SDC\\Anaconda3\\lib\\threading.py\", line 865, in run\n",
      "    self._target(*self._args, **self._kwargs)\n",
      "  File \"C:\\Users\\SDC\\Documents\\nasreddine\\Anomaly_Prediction_MultiThreading\\random_sequences_generation_master\\monotoring.py\", line 128, in query_consumer\n",
      "    queries.task_done()\n",
      "  File \"C:\\Users\\SDC\\Anaconda3\\lib\\queue.py\", line 74, in task_done\n",
      "    raise ValueError('task_done() called too many times')\n",
      "ValueError: task_done() called too many times\n",
      "\n",
      "Exception in thread Thread-52:\n",
      "Traceback (most recent call last):\n",
      "  File \"C:\\Users\\SDC\\Anaconda3\\lib\\threading.py\", line 917, in _bootstrap_inner\n",
      "    self.run()\n",
      "  File \"C:\\Users\\SDC\\Anaconda3\\lib\\threading.py\", line 865, in run\n",
      "    self._target(*self._args, **self._kwargs)\n",
      "  File \"C:\\Users\\SDC\\Documents\\nasreddine\\Anomaly_Prediction_MultiThreading\\random_sequences_generation_master\\monotoring.py\", line 128, in query_consumer\n",
      "    queries.task_done()\n",
      "  File \"C:\\Users\\SDC\\Anaconda3\\lib\\queue.py\", line 74, in task_done\n",
      "    raise ValueError('task_done() called too many times')\n",
      "ValueError: task_done() called too many times\n",
      "\n",
      "Exception in thread Thread-21:\n",
      "Traceback (most recent call last):\n",
      "  File \"C:\\Users\\SDC\\Anaconda3\\lib\\threading.py\", line 917, in _bootstrap_inner\n",
      "    self.run()\n",
      "  File \"C:\\Users\\SDC\\Anaconda3\\lib\\threading.py\", line 865, in run\n",
      "    self._target(*self._args, **self._kwargs)\n",
      "  File \"C:\\Users\\SDC\\Documents\\nasreddine\\Anomaly_Prediction_MultiThreading\\random_sequences_generation_master\\monotoring.py\", line 128, in query_consumer\n",
      "    queries.task_done()\n",
      "  File \"C:\\Users\\SDC\\Anaconda3\\lib\\queue.py\", line 74, in task_done\n",
      "    raise ValueError('task_done() called too many times')\n",
      "ValueError: task_done() called too many times\n",
      "\n",
      "Exception in thread Thread-42:\n",
      "Traceback (most recent call last):\n",
      "  File \"C:\\Users\\SDC\\Anaconda3\\lib\\threading.py\", line 917, in _bootstrap_inner\n",
      "    self.run()\n",
      "  File \"C:\\Users\\SDC\\Anaconda3\\lib\\threading.py\", line 865, in run\n",
      "    self._target(*self._args, **self._kwargs)\n",
      "  File \"C:\\Users\\SDC\\Documents\\nasreddine\\Anomaly_Prediction_MultiThreading\\random_sequences_generation_master\\monotoring.py\", line 128, in query_consumer\n",
      "    queries.task_done()\n",
      "  File \"C:\\Users\\SDC\\Anaconda3\\lib\\queue.py\", line 74, in task_done\n",
      "    raise ValueError('task_done() called too many times')\n",
      "ValueError: task_done() called too many times\n",
      "\n",
      "Exception in thread Thread-9:\n",
      "Traceback (most recent call last):\n",
      "  File \"C:\\Users\\SDC\\Anaconda3\\lib\\threading.py\", line 917, in _bootstrap_inner\n",
      "    self.run()\n",
      "  File \"C:\\Users\\SDC\\Anaconda3\\lib\\threading.py\", line 865, in run\n",
      "    self._target(*self._args, **self._kwargs)\n",
      "  File \"C:\\Users\\SDC\\Documents\\nasreddine\\Anomaly_Prediction_MultiThreading\\random_sequences_generation_master\\monotoring.py\", line 128, in query_consumer\n",
      "    queries.task_done()\n",
      "  File \"C:\\Users\\SDC\\Anaconda3\\lib\\queue.py\", line 74, in task_done\n",
      "    raise ValueError('task_done() called too many times')\n",
      "ValueError: task_done() called too many times\n",
      "\n"
     ]
    },
    {
     "data": {
      "text/plain": [
       "11.747316679"
      ]
     },
     "execution_count": 6,
     "metadata": {},
     "output_type": "execute_result"
    }
   ],
   "source": [
    "timeit.timeit(wrapped2,number=1)"
   ]
  },
  {
   "cell_type": "code",
   "execution_count": 29,
   "metadata": {
    "scrolled": true
   },
   "outputs": [
    {
     "name": "stderr",
     "output_type": "stream",
     "text": [
      "No handles with labels found to put in legend.\n",
      "No handles with labels found to put in legend.\n"
     ]
    },
    {
     "data": {
      "image/png": "[encoded data removed]",
      "text/plain": [
       "<Figure size 432x288 with 1 Axes>"
      ]
     },
     "metadata": {
      "needs_background": "light"
     },
     "output_type": "display_data"
    },
    {
     "data": {
      "image/png": "[encoded data removed]",
      "text/plain": [
       "<Figure size 432x288 with 1 Axes>"
      ]
     },
     "metadata": {
      "needs_background": "light"
     },
     "output_type": "display_data"
    }
   ],
   "source": [
    "import matplotlib.pyplot as plt\n",
    "\n",
    "x =[i for i in range(len(DB_seq))]\n",
    "\n",
    "plt.plot(x, d1,'ro',markersize=6) #red\n",
    "plt.plot(x, d2,'bo',markersize=3.5) #red\n",
    "plt.xlabel(\"num_seq \")\n",
    "plt.ylabel(\"sim\")\n",
    "\n",
    "plt.legend()\n",
    "plt.show() # affiche la figure a l'ecran"
   ]
  },
  {
   "cell_type": "code",
   "execution_count": 43,
   "metadata": {},
   "outputs": [
    {
     "data": {
      "text/plain": [
       "(1.0671117019996927, 0.001545472000088921)"
      ]
     },
     "execution_count": 43,
     "metadata": {},
     "output_type": "execute_result"
    }
   ],
   "source": [
    "from timeit import Timer\n",
    "t1 = Timer('len(list(range(20000)))'); t2 = Timer('iter(range(20000)).__length_hint__()')\n",
    "t1.timeit(3000), t2.timeit(3000)\n"
   ]
  },
  {
   "cell_type": "code",
   "execution_count": 1,
   "metadata": {},
   "outputs": [],
   "source": [
    "def nsplit_db(data,n):\n",
    "    \"\"\"\n",
    "     Yield successive n-sized chunks from data.\n",
    "     \"\"\"\n",
    "    k, m = divmod(len(data), n)\n",
    "    return (data[i * k + min(i, m):(i + 1) * k + min(i + 1, m)] for i in range(n))"
   ]
  },
  {
   "cell_type": "code",
   "execution_count": 6,
   "metadata": {},
   "outputs": [
    {
     "data": {
      "text/plain": [
       "[[1, 2, 3, 4], [5, 6, 7], [8, 9, 10]]"
      ]
     },
     "execution_count": 6,
     "metadata": {},
     "output_type": "execute_result"
    },
    {
     "data": {
      "text/plain": [
       "[[1, 2, 3, 4], [5, 6, 7], [8, 9, 10]]"
      ]
     },
     "execution_count": 6,
     "metadata": {},
     "output_type": "execute_result"
    }
   ],
   "source": [
    "l=[1,2,3,4,5,6,7,8,9,10]\n",
    "n=list(nsplit_db(l, 3))\n",
    "n"
   ]
  },
  {
   "cell_type": "code",
   "execution_count": 7,
   "metadata": {
    "scrolled": true
   },
   "outputs": [
    {
     "data": {
      "text/plain": [
       "[5, 6, 7]"
      ]
     },
     "execution_count": 7,
     "metadata": {},
     "output_type": "execute_result"
    },
    {
     "data": {
      "text/plain": [
       "[5, 6, 7]"
      ]
     },
     "execution_count": 7,
     "metadata": {},
     "output_type": "execute_result"
    }
   ],
   "source": [
    "n[1]"
   ]
  },
  {
   "cell_type": "code",
   "execution_count": 17,
   "metadata": {},
   "outputs": [
    {
     "data": {
      "text/plain": [
       "[]"
      ]
     },
     "execution_count": 17,
     "metadata": {},
     "output_type": "execute_result"
    }
   ],
   "source": [
    "d2"
   ]
  },
  {
   "cell_type": "code",
   "execution_count": 4,
   "metadata": {},
   "outputs": [],
   "source": []
  },
  {
   "cell_type": "code",
   "execution_count": 6,
   "metadata": {},
   "outputs": [
    {
     "name": "stdout",
     "output_type": "stream",
     "text": [
      "======== Searching for a sequence in the chronicle database =======\n",
      "Temps d execution : 0.614973715000005 secondes ---\n",
      "======== Parallel research for a sequence in the chronicle database =======\n",
      "======== Parallel research for a sequence in the chronicle database =======\n",
      "[0.614973715000005, 0.3011918060000056, 0.4182779620000048, 0.5163252480000011, 0.40777635199999906, 0.45419780900000717, 0.5013959139999997, 0.3986041850000106, 0.44658773400000484, 0.4986847329999904, 0.3585488949999984, 0.45739824400000373, 0.4672888970000031, 0.5047405339999926]\n"
     ]
    }
   ],
   "source": []
  },
  {
   "cell_type": "code",
   "execution_count": null,
   "metadata": {},
   "outputs": [],
   "source": []
  }
 ],
 "metadata": {
  "kernelspec": {
   "display_name": "Python 3",
   "language": "python",
   "name": "python3"
  },
  "language_info": {
   "codemirror_mode": {
    "name": "ipython",
    "version": 3
   },
   "file_extension": ".py",
   "mimetype": "text/x-python",
   "name": "python",
   "nbconvert_exporter": "python",
   "pygments_lexer": "ipython3",
   "version": "3.6.7"
  }
 },
 "nbformat": 4,
 "nbformat_minor": 2
}
