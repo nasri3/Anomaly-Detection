{
 "cells": [
  {
   "cell_type": "code",
   "execution_count": 1,
   "metadata": {},
   "outputs": [
    {
     "name": "stderr",
     "output_type": "stream",
     "text": [
      "Using TensorFlow backend.\n"
     ]
    }
   ],
   "source": [
    "from chronicle_recognition import Chronicle\n",
    "from chronicle_generator import *\n",
    "from monitoring2 import *\n",
    "import pandas as pd\n",
    "import numpy as np\n",
    "from sklearn import metrics\n",
    "from sklearn.model_selection import train_test_split\n",
    "from LSTMtrain import *"
   ]
  },
  {
   "cell_type": "code",
   "execution_count": 15,
   "metadata": {},
   "outputs": [
    {
     "name": "stdout",
     "output_type": "stream",
     "text": [
      "====================\n",
      "Chronicle DB generation\n",
      "====================\n",
      "\n",
      "======== PATTERNS =======\n",
      "C1\t {{15,11,1}}\n",
      "0,1: (12.929222830597055, 119.56787500446859)\n",
      "0,2: (-87.85522565622017, -15.211388383958209)\n",
      "1,2: (-207.42310066068876, -28.140611214555264)\n",
      "tid: [4, 6, 5, 7, 9, 3, 2, 0, 8, 1]\n",
      "10 10\n"
     ]
    }
   ],
   "source": [
    "print(\"====================\\nChronicle DB generation\\n====================\\n\")\n",
    "generator=chrodb_generator(nbitems=20,l=5, lp=3)\n",
    "sequences = generator.generate(nb=10, l=5, npat=1, th=.5)\n",
    "\n",
    "print(\"======== PATTERNS =======\")\n",
    "DB_c=[ch for ch in generator.all_patterns()]\n",
    "DB_ch=[affectation(ch) for ch in generator.all_patterns()]\n",
    "DB_seq=[s.seq for s in sequences]\n",
    "for i in DB_ch:\n",
    "    print(i)\n",
    "l=[]\n",
    "for ch in DB_c:\n",
    "    l.extend(ch.tidl)\n",
    "normal_seq=set(l)\n",
    "print(len(normal_seq),len(DB_seq))"
   ]
  },
  {
   "cell_type": "code",
   "execution_count": 16,
   "metadata": {},
   "outputs": [
    {
     "data": {
      "text/plain": [
       "[1, 1, 1, 1, 1, 1, 1, 1, 1, 1]"
      ]
     },
     "execution_count": 16,
     "metadata": {},
     "output_type": "execute_result"
    }
   ],
   "source": [
    "DB_seq_label=[]\n",
    "for seq in sequences :\n",
    "    if len(seq.seq)==0:\n",
    "        DB_seq_label.append(0)\n",
    "    if len(seq.seq)==1:\n",
    "        DB_seq.remove(seq.seq)\n",
    "    elif seq.id in normal_seq :\n",
    "        DB_seq_label.append(1)\n",
    "    else:\n",
    "            DB_seq_label.append(0)\n",
    "DB_seq_label"
   ]
  },
  {
   "cell_type": "code",
   "execution_count": 17,
   "metadata": {},
   "outputs": [
    {
     "name": "stdout",
     "output_type": "stream",
     "text": [
      "======== make_noise in CH DB =======\n",
      "1\n",
      "======== p sequence generation =======\n",
      "4\n",
      "======== SEQUENCES =======\n",
      "(14, 2)\n",
      "                                             sequence  label\n",
      "0         [(315, 1), (342, 15), (365, 11), (564, 12)]      1\n",
      "1         [(117, 1), (198, 15), (300, 11), (872, 17)]      1\n",
      "2          [(197, 1), (252, 15), (349, 11), (670, 9)]      1\n",
      "3         [(409, 1), (458, 19), (491, 15), (526, 11)]      1\n",
      "4   [(103, 1), (404, 1), (419, 15), (470, 11), (58...      1\n",
      "5          [(221, 1), (308, 15), (356, 0), (388, 11)]      1\n",
      "6          [(146, 1), (226, 15), (292, 11), (525, 7)]      1\n",
      "7             [(5, 1), (79, 15), (194, 11), (556, 4)]      1\n",
      "8                    [(130, 1), (212, 15), (308, 11)]      1\n",
      "9   [(145, 1), (221, 15), (255, 11), (580, 17), (7...      1\n",
      "10                   [(225, 15), (231, 1), (402, 11)]      0\n",
      "11                   [(460, 15), (478, 1), (637, 11)]      0\n",
      "12          [(33, 1), (102, 15), (246, 11), (763, 7)]      0\n"
     ]
    },
    {
     "name": "stderr",
     "output_type": "stream",
     "text": [
      "C:\\Users\\SDC\\Documents\\nasreddine\\Anomaly_Prediction_MultiThreading\\random_sequences_generation_master\\chronicle_generator.py:426: UserWarning: *** chronicle is not consistent ***\n",
      "  warnings.warn(\"*** chronicle is not consistent ***\")\n"
     ]
    }
   ],
   "source": [
    "#DB_ch=sort_db_ch(DB_ch)    \n",
    "print(\"======== make_noise in CH DB =======\")\n",
    "#p,c=make_noise(DB_c,0.3,200)\n",
    "c,p =split_db_ch(DB_c,per=.3)\n",
    "print(len(p))\n",
    "\n",
    "print(\"======== p sequence generation =======\")\n",
    "p_seq=[s.seq for s in generator.generate(nb=4, l=4, npat=len(p), th=1,patterns=p,pert=True)]\n",
    "print(len(p_seq))\n",
    "\n",
    "\n",
    "print(\"======== SEQUENCES =======\")\n",
    "seq_df=pd.DataFrame({'sequence':[], 'label':[]})\n",
    "seq_df.sequence=pd.Series(DB_seq+p_seq)\n",
    "\n",
    "seq_df.label=pd.Series(DB_seq_label+len(p_seq)*[0])\n",
    "print(seq_df.shape)\n",
    "print(seq_df.head(13))\n",
    "#for e in seq_df.sequence:\n",
    "#    print(e)"
   ]
  },
  {
   "cell_type": "code",
   "execution_count": 18,
   "metadata": {},
   "outputs": [
    {
     "name": "stdout",
     "output_type": "stream",
     "text": [
      "1 1 0\n",
      "C2\t {{15,11,1}}\n",
      "0,1: (12.929222830597055, 119.56787500446859)\n",
      "0,2: (-87.85522565622017, -15.211388383958209)\n",
      "1,2: (-207.42310066068876, -28.140611214555264)\n",
      "tid: [0, 3, 1, 2]\n"
     ]
    }
   ],
   "source": [
    "print(len(DB_ch),len(p),len(c))\n",
    "assert(len(DB_ch)==len(p)+len(c))\n",
    "print(affectation(p[0]))\n",
    "#seq_df.to_csv(\"output_filename.csv\", index=False, encoding='utf8')"
   ]
  },
  {
   "cell_type": "markdown",
   "metadata": {},
   "source": [
    "############## UCAD #######################"
   ]
  },
  {
   "cell_type": "code",
   "execution_count": 19,
   "metadata": {},
   "outputs": [
    {
     "name": "stdout",
     "output_type": "stream",
     "text": [
      "======== Searching for a sequence in the chronicle database I =======\n"
     ]
    },
    {
     "ename": "TypeError",
     "evalue": "predict() missing 7 required positional arguments: 'divisor2', 'maxlen', 'target_chars', 'target_char_indices', 'target_indices_char', 'char_indices', and 'chars'",
     "output_type": "error",
     "traceback": [
      "\u001b[1;31m---------------------------------------------------------------------------\u001b[0m",
      "\u001b[1;31mTypeError\u001b[0m                                 Traceback (most recent call last)",
      "\u001b[1;32m<ipython-input-19-cee6ef345446>\u001b[0m in \u001b[0;36m<module>\u001b[1;34m\u001b[0m\n\u001b[0;32m      1\u001b[0m \u001b[0mprint\u001b[0m\u001b[1;33m(\u001b[0m\u001b[1;34m\"======== Searching for a sequence in the chronicle database I =======\"\u001b[0m\u001b[1;33m)\u001b[0m\u001b[1;33m\u001b[0m\u001b[1;33m\u001b[0m\u001b[0m\n\u001b[0;32m      2\u001b[0m \u001b[1;33m\u001b[0m\u001b[0m\n\u001b[1;32m----> 3\u001b[1;33m \u001b[0mpredict\u001b[0m\u001b[1;33m=\u001b[0m\u001b[0mpredict\u001b[0m\u001b[1;33m(\u001b[0m\u001b[0mDB_ch\u001b[0m\u001b[1;33m,\u001b[0m\u001b[0mseq_df\u001b[0m\u001b[1;33m.\u001b[0m\u001b[0msequence\u001b[0m\u001b[1;33m.\u001b[0m\u001b[0mtolist\u001b[0m\u001b[1;33m(\u001b[0m\u001b[1;33m)\u001b[0m\u001b[1;33m)\u001b[0m\u001b[1;33m\u001b[0m\u001b[1;33m\u001b[0m\u001b[0m\n\u001b[0m\u001b[0;32m      4\u001b[0m \u001b[0my_pred\u001b[0m\u001b[1;33m=\u001b[0m\u001b[0mdecision\u001b[0m\u001b[1;33m(\u001b[0m\u001b[0mpredict\u001b[0m\u001b[1;33m,\u001b[0m\u001b[1;36m1\u001b[0m\u001b[1;33m)\u001b[0m\u001b[1;33m\u001b[0m\u001b[1;33m\u001b[0m\u001b[0m\n\u001b[0;32m      5\u001b[0m \u001b[0mpredict\u001b[0m\u001b[1;33m\u001b[0m\u001b[1;33m\u001b[0m\u001b[0m\n",
      "\u001b[1;31mTypeError\u001b[0m: predict() missing 7 required positional arguments: 'divisor2', 'maxlen', 'target_chars', 'target_char_indices', 'target_indices_char', 'char_indices', and 'chars'"
     ]
    }
   ],
   "source": [
    "print(\"======== Searching for a sequence in the chronicle database I =======\")\n",
    "\n",
    "predict=predict(DB_ch,seq_df.sequence.tolist())\n",
    "y_pred=decision(predict,1)\n",
    "predict"
   ]
  },
  {
   "cell_type": "code",
   "execution_count": 20,
   "metadata": {},
   "outputs": [
    {
     "name": "stdout",
     "output_type": "stream",
     "text": [
      "[1, 1, 1, 1, 0.7102, 1, 1, 1, 1, 1, 0, 0, 0.956, 0]\n"
     ]
    },
    {
     "data": {
      "text/plain": [
       "[1, 1, 1, 1, 0, 1, 1, 1, 1, 1, 0, 0, 0, 0]"
      ]
     },
     "execution_count": 20,
     "metadata": {},
     "output_type": "execute_result"
    }
   ],
   "source": [
    "predict=[KNN(DB_ch,seq)[0] for seq in seq_df.sequence.tolist()]\n",
    "print(predict)\n",
    "y_pred=decision(predict,1)\n",
    "y_pred"
   ]
  },
  {
   "cell_type": "code",
   "execution_count": 21,
   "metadata": {},
   "outputs": [
    {
     "data": {
      "text/plain": [
       "0.9285714285714286"
      ]
     },
     "execution_count": 21,
     "metadata": {},
     "output_type": "execute_result"
    }
   ],
   "source": [
    "# Calculate the classification rate of this classifier\n",
    "assert(len(seq_df)==len(y_pred))\n",
    "metrics.accuracy_score(seq_df.label, y_pred)"
   ]
  },
  {
   "cell_type": "code",
   "execution_count": 22,
   "metadata": {},
   "outputs": [
    {
     "name": "stdout",
     "output_type": "stream",
     "text": [
      "[[4 0]\n",
      " [1 9]]\n"
     ]
    }
   ],
   "source": [
    "# Display the confusion matrix\n",
    "print(metrics.confusion_matrix(seq_df.label, y_pred))"
   ]
  },
  {
   "cell_type": "code",
   "execution_count": 23,
   "metadata": {},
   "outputs": [
    {
     "data": {
      "text/plain": [
       "0.9181286549707603"
      ]
     },
     "execution_count": 23,
     "metadata": {},
     "output_type": "execute_result"
    }
   ],
   "source": [
    "metrics.f1_score(seq_df.label, y_pred, average='macro')"
   ]
  },
  {
   "cell_type": "markdown",
   "metadata": {},
   "source": [
    "############ LSTM ########################"
   ]
  },
  {
   "cell_type": "code",
   "execution_count": 35,
   "metadata": {},
   "outputs": [
    {
     "name": "stderr",
     "output_type": "stream",
     "text": [
      "C:\\Users\\SDC\\Documents\\nasreddine\\Anomaly_Prediction_MultiThreading\\random_sequences_generation_master\\chronicle_generator.py:426: UserWarning: *** chronicle is not consistent ***\n",
      "  warnings.warn(\"*** chronicle is not consistent ***\")\n"
     ]
    }
   ],
   "source": [
    "trainch=DB_c\n",
    "trainseq=[s.seq for s in generator.generate(nb=100, l=10, npat=len(trainch), th=1,patterns=trainch,pert=False)]\n",
    "trainseq=list(filter(lambda a: len(a)!=0, trainseq))\n",
    "with open(\"data.txt\", \"a\") as fichier:\n",
    "    for seq in trainseq:\n",
    "        fichier.write(str(seq).strip('[]')+'\\n')"
   ]
  },
  {
   "cell_type": "code",
   "execution_count": null,
   "metadata": {},
   "outputs": [],
   "source": [
    "divisor,divisor2,maxlen,target_chars,target_char_indices,target_indices_char,char_indices,chars=train(trainseq)\n",
    "print(divisor,divisor2,maxlen,target_chars,target_char_indices,target_indices_char,char_indices,chars)"
   ]
  },
  {
   "cell_type": "code",
   "execution_count": null,
   "metadata": {},
   "outputs": [],
   "source": [
    "SS=[anomalydetect([seq],divisor,divisor2,maxlen,target_chars,target_char_indices,target_indices_char,char_indices,chars) for seq in seq_df.sequence.tolist()]\n",
    "print(SS)\n",
    "SS_y=decision(SS,1)\n",
    "SS_y"
   ]
  },
  {
   "cell_type": "code",
   "execution_count": null,
   "metadata": {},
   "outputs": [],
   "source": [
    "metrics.accuracy_score(seq_df.label, SS_y)"
   ]
  },
  {
   "cell_type": "code",
   "execution_count": null,
   "metadata": {},
   "outputs": [],
   "source": [
    "metrics.f1_score(seq_df.label, SS_y, average='macro')"
   ]
  },
  {
   "cell_type": "markdown",
   "metadata": {},
   "source": [
    "######################################"
   ]
  },
  {
   "cell_type": "code",
   "execution_count": 219,
   "metadata": {},
   "outputs": [
    {
     "data": {
      "text/plain": [
       "[(0, 10), (1, 50), (2, 30), (3, 10), (4, 10), (5, 30)]"
      ]
     },
     "execution_count": 219,
     "metadata": {},
     "output_type": "execute_result"
    }
   ],
   "source": [
    "l=[10,50,30,10,10,30]\n",
    "[(i,a) for i , a in enumerate(l)]"
   ]
  },
  {
   "cell_type": "code",
   "execution_count": 153,
   "metadata": {},
   "outputs": [
    {
     "data": {
      "image/png": "[encoded data removed]",
      "text/plain": [
       "<Figure size 432x288 with 1 Axes>"
      ]
     },
     "metadata": {
      "needs_background": "light"
     },
     "output_type": "display_data"
    }
   ],
   "source": [
    "pd.Series(l).describe()\n",
    "u = pd.Series(l).plot(kind='hist', title='document length')"
   ]
  },
  {
   "cell_type": "code",
   "execution_count": 157,
   "metadata": {},
   "outputs": [
    {
     "name": "stdout",
     "output_type": "stream",
     "text": [
      "C175\t {{1,2,2}}\n",
      "0,1: (1, 2)\n",
      "0,2: (-inf, inf)\n",
      "1,2: (-inf, inf)\n",
      "tid: []\n",
      "[[(1, 1), (3, 3), (3, 3)]]\n"
     ]
    }
   ],
   "source": [
    "seq=[(1,1),(2,0),(3,2),(4,0),(5,0),(6,0)]\n",
    "c=Chronicle()\n",
    "c.add_event(0,1)\n",
    "c.add_event(1,2)\n",
    "c.add_event(2,2)\n",
    "c.add_constraint(0,1, (1,2))\n",
    "c.add_constraint(1,2, (-float('inf'),float('inf')))\n",
    "#c.add_constraint(1,2, (67.4333242689155, 258.7202212149524))\n",
    "print(c)\n",
    "occs=c.recognize(seq)\n",
    "print (occs[0])"
   ]
  },
  {
   "cell_type": "code",
   "execution_count": 155,
   "metadata": {},
   "outputs": [],
   "source": [
    "c.minimize()"
   ]
  },
  {
   "cell_type": "code",
   "execution_count": 156,
   "metadata": {},
   "outputs": [
    {
     "name": "stdout",
     "output_type": "stream",
     "text": [
      "C174\t {{1,2,2}}\n",
      "0,1: (1, 2)\n",
      "0,2: (-inf, inf)\n",
      "1,2: (-inf, inf)\n",
      "tid: []\n"
     ]
    }
   ],
   "source": [
    "print(c)"
   ]
  },
  {
   "cell_type": "code",
   "execution_count": 178,
   "metadata": {},
   "outputs": [
    {
     "ename": "OverflowError",
     "evalue": "Range exceeds valid bounds",
     "output_type": "error",
     "traceback": [
      "\u001b[0;31m---------------------------------------------------------------------------\u001b[0m",
      "\u001b[0;31mOverflowError\u001b[0m                             Traceback (most recent call last)",
      "\u001b[0;32m<ipython-input-178-7619dff6073c>\u001b[0m in \u001b[0;36m<module>\u001b[0;34m\u001b[0m\n\u001b[0;32m----> 1\u001b[0;31m \u001b[0mnp\u001b[0m\u001b[0;34m.\u001b[0m\u001b[0mrandom\u001b[0m\u001b[0;34m.\u001b[0m\u001b[0muniform\u001b[0m\u001b[0;34m(\u001b[0m\u001b[0;34m-\u001b[0m\u001b[0mfloat\u001b[0m\u001b[0;34m(\u001b[0m\u001b[0;34m'inf'\u001b[0m\u001b[0;34m)\u001b[0m\u001b[0;34m-\u001b[0m\u001b[0;36m1\u001b[0m\u001b[0;34m,\u001b[0m\u001b[0;34m-\u001b[0m\u001b[0mfloat\u001b[0m\u001b[0;34m(\u001b[0m\u001b[0;34m'inf'\u001b[0m\u001b[0;34m)\u001b[0m\u001b[0;34m+\u001b[0m\u001b[0;36m100\u001b[0m\u001b[0;34m)\u001b[0m\u001b[0;34m\u001b[0m\u001b[0;34m\u001b[0m\u001b[0m\n\u001b[0m",
      "\u001b[0;32mmtrand.pyx\u001b[0m in \u001b[0;36mmtrand.RandomState.uniform\u001b[0;34m()\u001b[0m\n",
      "\u001b[0;31mOverflowError\u001b[0m: Range exceeds valid bounds"
     ]
    }
   ],
   "source": [
    "np.random.uniform(-float('inf')-1,-float('inf')+100)"
   ]
  },
  {
   "cell_type": "code",
   "execution_count": 208,
   "metadata": {},
   "outputs": [
    {
     "data": {
      "text/plain": [
       "([[(376, 376), (429, 429)]], 1.0)"
      ]
     },
     "execution_count": 208,
     "metadata": {},
     "output_type": "execute_result"
    }
   ],
   "source": [
    "seq=[(173, 2), (294, 0), (376, 5), (429, 13)] \n",
    "c=Chronicle()\n",
    "c.add_event(0,5)\n",
    "c.add_event(1,13)\n",
    "c.add_constraint(0,1,(58.61928024080464, 114.51122038387246))\n",
    "c.recognize(seq)"
   ]
  },
  {
   "cell_type": "code",
   "execution_count": 12,
   "metadata": {},
   "outputs": [
    {
     "name": "stdout",
     "output_type": "stream",
     "text": [
      "[[(83, 0), (431, 13), (581, 16)], [(246, 13), (384, 16), (414, 0), (880, 4)], [(43, 12), (437, 13), (577, 16), (774, 10)], [(455, 13), (493, 5), (588, 16)]]\n"
     ]
    }
   ],
   "source": [
    "p_seq=[s.seq for s in generator.generate(nb=4, l=4, npat=len(p), th=1,patterns=p,pert=True)]\n",
    "print(p_seq)"
   ]
  },
  {
   "cell_type": "code",
   "execution_count": 105,
   "metadata": {},
   "outputs": [
    {
     "name": "stdout",
     "output_type": "stream",
     "text": [
      "C51\t {{1,2,5}}\n",
      "0,1: (-inf, inf)\n",
      "0,2: (-60.181163021013596, -5.822358418911001)\n",
      "1,2: (-inf, inf)\n",
      "tid: [1, 3, 2, 0]\n"
     ]
    },
    {
     "name": "stderr",
     "output_type": "stream",
     "text": [
      "/home/nasri/Documents/code/app/Anomaly_Prediction_MultiThreading/random_sequences_generation_master/chronicle_recognition.py:195: UserWarning: *** Minimisation: Inconsistent chronicle ***\n",
      "  warnings.warn(\"*** Minimisation: Inconsistent chronicle ***\")\n"
     ]
    }
   ],
   "source": [
    "c=affectation(p[0])\n",
    "c.minimize()\n",
    "print(c)"
   ]
  },
  {
   "cell_type": "code",
   "execution_count": 32,
   "metadata": {},
   "outputs": [
    {
     "data": {
      "text/plain": [
       "array([[[0.],\n",
       "        [0.],\n",
       "        [0.]],\n",
       "\n",
       "       [[0.],\n",
       "        [0.],\n",
       "        [0.]],\n",
       "\n",
       "       [[0.],\n",
       "        [0.],\n",
       "        [0.]]])"
      ]
     },
     "execution_count": 32,
     "metadata": {},
     "output_type": "execute_result"
    }
   ],
   "source": [
    "np.zeros((3,3,1))"
   ]
  },
  {
   "cell_type": "code",
   "execution_count": 26,
   "metadata": {},
   "outputs": [
    {
     "data": {
      "text/plain": [
       "array([[0., 0., 0.],\n",
       "       [0., 0., 0.]])"
      ]
     },
     "execution_count": 26,
     "metadata": {},
     "output_type": "execute_result"
    }
   ],
   "source": [
    "np.zeros((2,3))"
   ]
  },
  {
   "cell_type": "code",
   "execution_count": 37,
   "metadata": {},
   "outputs": [
    {
     "name": "stdout",
     "output_type": "stream",
     "text": [
      "[0 1 2 ... 7 8 9]\n"
     ]
    }
   ],
   "source": [
    "np.set_printoptions(threshold=1)\n",
    "print(np.arange(10))"
   ]
  },
  {
   "cell_type": "code",
   "execution_count": 5,
   "metadata": {},
   "outputs": [
    {
     "name": "stdout",
     "output_type": "stream",
     "text": [
      "[<chronicle_generator.chronicle object at 0x00000224E0DE1A20>]\n"
     ]
    }
   ],
   "source": [
    "p=[DB_c[0]]\n",
    "print(p)\n",
    "p_seq=[s.seq for s in generator.generate(nb=100, l=10, npat=len(p), th=1,patterns=p,pert=False)]\n",
    "\n",
    "with open(\"data.txt\", \"a\") as fichier:\n",
    "    for seq in p_seq:\n",
    "        fichier.write(str(seq).strip('[]')+'\\n')"
   ]
  },
  {
   "cell_type": "code",
   "execution_count": 7,
   "metadata": {},
   "outputs": [
    {
     "name": "stdout",
     "output_type": "stream",
     "text": [
      "divisor: 83.53522607781282\n",
      "divisor2: 331.1735015772871\n",
      "total chars: 905, target chars: 905\n",
      "{0: (0, 15), 1: (1, 15), 2: (3, 15), 3: (4, 10), 4: (5, 4), 5: (8, 4), 6: (10, 15), 7: (11, 3), 8: (11, 12), 9: (12, 15), 10: (16, 9), 11: (16, 15), 12: (17, 3), 13: (17, 15), 14: (18, 15), 15: (19, 11), 16: (22, 9), 17: (23, 7), 18: (23, 15), 19: (24, 10), 20: (24, 18), 21: (25, 11), 22: (25, 15), 23: (26, 15), 24: (27, 15), 25: (28, 15), 26: (31, 11), 27: (31, 15), 28: (33, 15), 29: (34, 9), 30: (34, 15), 31: (35, 9), 32: (35, 13), 33: (36, 0), 34: (36, 17), 35: (37, 9), 36: (38, 15), 37: (39, 2), 38: (40, 9), 39: (41, 13), 40: (42, 11), 41: (43, 4), 42: (43, 10), 43: (43, 17), 44: (45, 17), 45: (46, 9), 46: (48, 9), 47: (49, 9), 48: (51, 4), 49: (52, 6), 50: (52, 15), 51: (54, 19), 52: (55, 9), 53: (56, 13), 54: (58, 2), 55: (58, 11), 56: (60, 16), 57: (61, 13), 58: (62, 13), 59: (64, 3), 60: (64, 9), 61: (64, 15), 62: (65, 9), 63: (65, 12), 64: (65, 18), 65: (66, 13), 66: (67, 13), 67: (67, 19), 68: (68, 13), 69: (69, 13), 70: (70, 15), 71: (73, 17), 72: (75, 12), 73: (76, 4), 74: (76, 9), 75: (76, 13), 76: (76, 16), 77: (77, 2), 78: (77, 9), 79: (77, 17), 80: (79, 9), 81: (79, 11), 82: (80, 6), 83: (81, 9), 84: (81, 13), 85: (83, 1), 86: (83, 19), 87: (84, 9), 88: (85, 16), 89: (86, 10), 90: (86, 13), 91: (87, 17), 92: (88, 10), 93: (88, 17), 94: (89, 12), 95: (92, 4), 96: (94, 11), 97: (94, 15), 98: (95, 1), 99: (95, 15), 100: (96, 5), 101: (96, 11), 102: (97, 8), 103: (97, 12), 104: (98, 9), 105: (98, 17), 106: (99, 13), 107: (99, 15), 108: (100, 14), 109: (102, 13), 110: (103, 15), 111: (104, 15), 112: (106, 11), 113: (107, 9), 114: (108, 15), 115: (108, 16), 116: (110, 9), 117: (110, 17), 118: (111, 9), 119: (111, 15), 120: (112, 13), 121: (113, 15), 122: (113, 16), 123: (114, 11), 124: (114, 15), 125: (115, 6), 126: (115, 10), 127: (116, 2), 128: (116, 9), 129: (116, 15), 130: (117, 13), 131: (117, 15), 132: (117, 18), 133: (119, 9), 134: (119, 13), 135: (119, 16), 136: (121, 15), 137: (124, 2), 138: (127, 9), 139: (127, 13), 140: (130, 9), 141: (131, 12), 142: (132, 0), 143: (132, 9), 144: (133, 7), 145: (133, 13), 146: (133, 15), 147: (134, 0), 148: (136, 6), 149: (136, 9), 150: (136, 17), 151: (137, 16), 152: (139, 13), 153: (140, 6), 154: (141, 4), 155: (141, 15), 156: (142, 2), 157: (142, 3), 158: (142, 15), 159: (144, 6), 160: (144, 8), 161: (144, 15), 162: (144, 19), 163: (147, 1), 164: (148, 9), 165: (148, 10), 166: (148, 13), 167: (149, 9), 168: (149, 13), 169: (150, 9), 170: (152, 9), 171: (154, 13), 172: (155, 8), 173: (155, 9), 174: (155, 13), 175: (156, 13), 176: (156, 15), 177: (157, 0), 178: (157, 9), 179: (157, 16), 180: (158, 13), 181: (158, 15), 182: (161, 15), 183: (162, 9), 184: (165, 15), 185: (166, 9), 186: (166, 17), 187: (167, 15), 188: (168, 13), 189: (168, 15), 190: (169, 14), 191: (170, 6), 192: (170, 9), 193: (171, 13), 194: (172, 18), 195: (173, 2), 196: (174, 9), 197: (175, 3), 198: (177, 9), 199: (177, 15), 200: (177, 17), 201: (177, 18), 202: (179, 2), 203: (179, 10), 204: (179, 15), 205: (182, 9), 206: (183, 9), 207: (183, 15), 208: (184, 11), 209: (184, 18), 210: (185, 0), 211: (186, 9), 212: (187, 15), 213: (188, 7), 214: (188, 13), 215: (189, 8), 216: (189, 15), 217: (190, 9), 218: (192, 9), 219: (192, 13), 220: (192, 14), 221: (193, 3), 222: (193, 12), 223: (195, 3), 224: (195, 9), 225: (196, 6), 226: (196, 13), 227: (198, 15), 228: (199, 9), 229: (199, 13), 230: (200, 12), 231: (200, 13), 232: (202, 3), 233: (202, 15), 234: (203, 9), 235: (204, 13), 236: (204, 15), 237: (205, 6), 238: (205, 9), 239: (205, 10), 240: (205, 13), 241: (206, 13), 242: (206, 19), 243: (207, 9), 244: (207, 11), 245: (208, 1), 246: (209, 13), 247: (209, 15), 248: (209, 18), 249: (210, 8), 250: (210, 13), 251: (212, 13), 252: (214, 8), 253: (214, 9), 254: (215, 7), 255: (215, 15), 256: (216, 13), 257: (216, 15), 258: (217, 13), 259: (218, 2), 260: (218, 3), 261: (218, 10), 262: (218, 16), 263: (219, 15), 264: (221, 13), 265: (222, 15), 266: (224, 4), 267: (225, 8), 268: (226, 9), 269: (227, 9), 270: (227, 15), 271: (228, 9), 272: (228, 13), 273: (228, 15), 274: (229, 2), 275: (229, 7), 276: (229, 15), 277: (230, 13), 278: (232, 15), 279: (233, 9), 280: (235, 14), 281: (237, 13), 282: (238, 10), 283: (238, 15), 284: (239, 15), 285: (240, 15), 286: (241, 13), 287: (242, 0), 288: (242, 13), 289: (243, 11), 290: (245, 13), 291: (246, 2), 292: (250, 11), 293: (250, 12), 294: (250, 13), 295: (251, 9), 296: (252, 9), 297: (253, 9), 298: (255, 9), 299: (255, 15), 300: (257, 9), 301: (258, 4), 302: (258, 13), 303: (261, 2), 304: (262, 4), 305: (262, 13), 306: (263, 9), 307: (265, 4), 308: (265, 13), 309: (266, 13), 310: (267, 9), 311: (267, 11), 312: (267, 13), 313: (269, 13), 314: (270, 0), 315: (270, 5), 316: (270, 9), 317: (270, 13), 318: (272, 9), 319: (272, 13), 320: (273, 15), 321: (274, 9), 322: (274, 15), 323: (275, 13), 324: (276, 9), 325: (278, 7), 326: (279, 8), 327: (279, 9), 328: (279, 18), 329: (280, 7), 330: (283, 5), 331: (283, 16), 332: (284, 15), 333: (286, 3), 334: (286, 9), 335: (286, 15), 336: (287, 7), 337: (287, 13), 338: (287, 15), 339: (288, 9), 340: (289, 9), 341: (293, 13), 342: (294, 9), 343: (294, 12), 344: (295, 15), 345: (296, 15), 346: (297, 13), 347: (299, 9), 348: (299, 13), 349: (300, 15), 350: (301, 15), 351: (303, 13), 352: (303, 15), 353: (304, 15), 354: (306, 9), 355: (306, 15), 356: (308, 16), 357: (309, 11), 358: (311, 7), 359: (311, 13), 360: (312, 1), 361: (312, 2), 362: (312, 9), 363: (312, 19), 364: (313, 6), 365: (313, 13), 366: (315, 9), 367: (315, 11), 368: (315, 15), 369: (319, 0), 370: (319, 16), 371: (321, 5), 372: (321, 9), 373: (322, 2), 374: (323, 8), 375: (323, 13), 376: (323, 15), 377: (324, 15), 378: (325, 0), 379: (326, 9), 380: (327, 9), 381: (327, 15), 382: (327, 19), 383: (329, 13), 384: (331, 9), 385: (331, 13), 386: (332, 2), 387: (332, 13), 388: (333, 5), 389: (333, 7), 390: (335, 6), 391: (335, 9), 392: (335, 14), 393: (336, 9), 394: (336, 12), 395: (336, 13), 396: (338, 13), 397: (341, 7), 398: (342, 5), 399: (342, 9), 400: (344, 6), 401: (346, 9), 402: (350, 9), 403: (350, 15), 404: (351, 19), 405: (352, 19), 406: (353, 17), 407: (354, 8), 408: (354, 9), 409: (354, 13), 410: (355, 9), 411: (355, 10), 412: (356, 13), 413: (357, 13), 414: (357, 15), 415: (358, 8), 416: (358, 9), 417: (359, 2), 418: (359, 13), 419: (360, 13), 420: (361, 14), 421: (362, 9), 422: (362, 15), 423: (363, 9), 424: (363, 13), 425: (364, 6), 426: (364, 7), 427: (365, 4), 428: (365, 8), 429: (365, 10), 430: (366, 1), 431: (366, 14), 432: (369, 0), 433: (370, 13), 434: (371, 13), 435: (372, 0), 436: (373, 15), 437: (375, 13), 438: (375, 15), 439: (378, 3), 440: (378, 9), 441: (378, 13), 442: (379, 3), 443: (379, 9), 444: (379, 11), 445: (380, 1), 446: (380, 9), 447: (380, 10), 448: (380, 16), 449: (381, 13), 450: (382, 3), 451: (382, 13), 452: (382, 15), 453: (384, 1), 454: (384, 9), 455: (385, 9), 456: (385, 15), 457: (385, 17), 458: (387, 13), 459: (388, 4), 460: (388, 13), 461: (388, 15), 462: (389, 13), 463: (390, 4), 464: (390, 7), 465: (391, 5), 466: (391, 19), 467: (393, 3), 468: (393, 12), 469: (393, 15), 470: (394, 9), 471: (396, 9), 472: (396, 10), 473: (396, 13), 474: (398, 2), 475: (400, 5), 476: (400, 6), 477: (401, 14), 478: (402, 9), 479: (402, 17), 480: (403, 5), 481: (403, 11), 482: (404, 8), 483: (404, 10), 484: (405, 1), 485: (405, 13), 486: (406, 14), 487: (406, 19), 488: (408, 6), 489: (408, 15), 490: (409, 13), 491: (410, 9), 492: (410, 15), 493: (412, 9), 494: (413, 0), 495: (415, 7), 496: (415, 9), 497: (415, 15), 498: (416, 17), 499: (419, 4), 500: (419, 6), 501: (420, 8), 502: (420, 12), 503: (420, 13), 504: (423, 9), 505: (423, 13), 506: (424, 9), 507: (426, 8), 508: (427, 9), 509: (427, 13), 510: (428, 11), 511: (429, 11), 512: (429, 13), 513: (431, 15), 514: (432, 11), 515: (433, 15), 516: (434, 9), 517: (435, 0), 518: (435, 13), 519: (436, 17), 520: (437, 9), 521: (438, 8), 522: (438, 13), 523: (439, 15), 524: (439, 19), 525: (440, 13), 526: (441, 1), 527: (442, 14), 528: (443, 9), 529: (444, 13), 530: (445, 0), 531: (445, 9), 532: (445, 14), 533: (446, 15), 534: (447, 13), 535: (447, 15), 536: (451, 19), 537: (452, 6), 538: (452, 13), 539: (453, 9), 540: (453, 13), 541: (455, 2), 542: (457, 15), 543: (459, 14), 544: (461, 1), 545: (461, 7), 546: (461, 17), 547: (462, 5), 548: (462, 6), 549: (462, 10), 550: (463, 3), 551: (463, 17), 552: (464, 8), 553: (464, 9), 554: (464, 10), 555: (466, 9), 556: (467, 12), 557: (468, 15), 558: (469, 9), 559: (470, 1), 560: (470, 5), 561: (470, 13), 562: (471, 9), 563: (471, 19), 564: (473, 3), 565: (474, 2), 566: (474, 9), 567: (475, 12), 568: (476, 9), 569: (476, 14), 570: (476, 19), 571: (478, 13), 572: (478, 15), 573: (479, 5), 574: (482, 6), 575: (482, 15), 576: (484, 8), 577: (484, 9), 578: (487, 9), 579: (488, 13), 580: (489, 13), 581: (490, 1), 582: (490, 11), 583: (491, 4), 584: (493, 15), 585: (494, 9), 586: (494, 13), 587: (494, 15), 588: (497, 5), 589: (498, 9), 590: (498, 17), 591: (499, 3), 592: (502, 2), 593: (502, 11), 594: (503, 7), 595: (503, 13), 596: (504, 14), 597: (507, 0), 598: (508, 13), 599: (510, 14), 600: (511, 10), 601: (511, 13), 602: (512, 9), 603: (517, 0), 604: (517, 11), 605: (520, 10), 606: (520, 13), 607: (521, 15), 608: (521, 18), 609: (529, 16), 610: (531, 9), 611: (532, 8), 612: (534, 2), 613: (534, 3), 614: (537, 4), 615: (537, 5), 616: (539, 3), 617: (542, 3), 618: (542, 5), 619: (543, 4), 620: (544, 6), 621: (546, 5), 622: (547, 10), 623: (548, 1), 624: (548, 5), 625: (551, 11), 626: (555, 8), 627: (558, 10), 628: (561, 19), 629: (563, 12), 630: (565, 16), 631: (568, 4), 632: (569, 7), 633: (572, 16), 634: (572, 19), 635: (573, 10), 636: (573, 11), 637: (576, 19), 638: (578, 15), 639: (579, 13), 640: (581, 9), 641: (583, 15), 642: (583, 17), 643: (586, 3), 644: (587, 2), 645: (589, 5), 646: (589, 17), 647: (590, 14), 648: (592, 9), 649: (593, 13), 650: (599, 9), 651: (601, 4), 652: (601, 12), 653: (602, 0), 654: (603, 1), 655: (604, 9), 656: (605, 14), 657: (607, 17), 658: (608, 8), 659: (610, 4), 660: (610, 18), 661: (612, 7), 662: (613, 12), 663: (613, 18), 664: (617, 14), 665: (618, 17), 666: (621, 2), 667: (622, 2), 668: (622, 6), 669: (622, 15), 670: (625, 12), 671: (632, 4), 672: (633, 14), 673: (634, 0), 674: (639, 9), 675: (641, 9), 676: (642, 3), 677: (645, 9), 678: (650, 6), 679: (651, 8), 680: (651, 16), 681: (652, 12), 682: (654, 3), 683: (655, 0), 684: (657, 16), 685: (658, 8), 686: (662, 16), 687: (663, 1), 688: (666, 8), 689: (669, 17), 690: (672, 19), 691: (674, 6), 692: (674, 16), 693: (676, 17), 694: (677, 14), 695: (679, 18), 696: (680, 5), 697: (680, 8), 698: (680, 19), 699: (683, 6), 700: (684, 13), 701: (686, 12), 702: (689, 2), 703: (690, 10), 704: (691, 18), 705: (692, 0), 706: (695, 13), 707: (698, 8), 708: (698, 15), 709: (701, 8), 710: (702, 9), 711: (706, 2), 712: (709, 10), 713: (710, 13), 714: (712, 17), 715: (713, 15), 716: (715, 0), 717: (716, 0), 718: (718, 8), 719: (721, 1), 720: (721, 13), 721: (723, 14), 722: (724, 14), 723: (725, 11), 724: (726, 13), 725: (727, 5), 726: (728, 15), 727: (729, 13), 728: (732, 1), 729: (732, 19), 730: (735, 0), 731: (737, 11), 732: (737, 16), 733: (738, 9), 734: (738, 10), 735: (739, 9), 736: (744, 3), 737: (747, 8), 738: (750, 15), 739: (750, 18), 740: (752, 11), 741: (754, 14), 742: (757, 3), 743: (757, 13), 744: (760, 1), 745: (761, 2), 746: (763, 12), 747: (764, 17), 748: (766, 17), 749: (769, 15), 750: (770, 14), 751: (770, 16), 752: (773, 1), 753: (774, 17), 754: (775, 4), 755: (775, 16), 756: (775, 18), 757: (777, 4), 758: (782, 9), 759: (783, 17), 760: (785, 8), 761: (785, 9), 762: (787, 18), 763: (789, 3), 764: (789, 4), 765: (789, 14), 766: (790, 10), 767: (792, 3), 768: (793, 13), 769: (794, 1), 770: (795, 2), 771: (796, 10), 772: (802, 9), 773: (803, 6), 774: (805, 15), 775: (806, 1), 776: (806, 18), 777: (807, 2), 778: (812, 3), 779: (814, 5), 780: (814, 15), 781: (817, 8), 782: (824, 1), 783: (824, 5), 784: (824, 14), 785: (825, 0), 786: (825, 6), 787: (826, 1), 788: (827, 2), 789: (830, 2), 790: (830, 10), 791: (831, 19), 792: (836, 13), 793: (838, 6), 794: (839, 9), 795: (841, 17), 796: (845, 18), 797: (850, 3), 798: (851, 11), 799: (851, 15), 800: (853, 9), 801: (854, 16), 802: (859, 3), 803: (864, 5), 804: (865, 4), 805: (865, 5), 806: (865, 10), 807: (867, 3), 808: (867, 11), 809: (875, 7), 810: (876, 1), 811: (876, 15), 812: (878, 1), 813: (878, 3), 814: (881, 4), 815: (881, 9), 816: (883, 15), 817: (884, 14), 818: (885, 15), 819: (887, 3), 820: (888, 14), 821: (891, 3), 822: (891, 10), 823: (891, 18), 824: (892, 12), 825: (892, 14), 826: (892, 16), 827: (897, 2), 828: (898, 15), 829: (899, 6), 830: (903, 16), 831: (906, 2), 832: (907, 9), 833: (910, 14), 834: (913, 9), 835: (915, 1), 836: (916, 11), 837: (916, 16), 838: (921, 14), 839: (921, 18), 840: (924, 6), 841: (924, 9), 842: (926, 17), 843: (928, 8), 844: (931, 18), 845: (932, 19), 846: (934, 4), 847: (935, 3), 848: (935, 9), 849: (936, 15), 850: (938, 9), 851: (938, 11), 852: (944, 5), 853: (945, 0), 854: (946, 0), 855: (947, 18), 856: (948, 11), 857: (950, 18), 858: (952, 11), 859: (955, 18), 860: (956, 18), 861: (957, 13), 862: (958, 13), 863: (958, 17), 864: (961, 19), 865: (962, 1), 866: (963, 12), 867: (963, 13), 868: (967, 16), 869: (968, 0), 870: (971, 0), 871: (973, 15), 872: (974, 3), 873: (975, 4), 874: (975, 16), 875: (976, 4), 876: (977, 4), 877: (978, 11), 878: (978, 17), 879: (979, 19), 880: (981, 8), 881: (983, 15), 882: (984, 3), 883: (984, 13), 884: (984, 15), 885: (986, 16), 886: (986, 18), 887: (987, 2), 888: (989, 10), 889: (989, 15), 890: (990, 17), 891: (991, 10), 892: (992, 2), 893: (992, 5), 894: (993, 11), 895: (993, 17), 896: (994, 3), 897: (994, 10), 898: (995, 9), 899: (996, 2), 900: (996, 14), 901: (997, 2), 902: (997, 8), 903: (999, 5), 904: (999, 15)}\n",
      "nb sequences: 851\n",
      "Vectorization...\n",
      "num features: 907\n"
     ]
    },
    {
     "name": "stdout",
     "output_type": "stream",
     "text": [
      "Build model...\n",
      "Train on 680 samples, validate on 171 samples\n",
      "Epoch 1/500\n",
      " - 31s - loss: 7.7125 - act_output_loss: 6.8610 - time_output_loss: 0.8516 - val_loss: 7.8037 - val_act_output_loss: 6.9050 - val_time_output_loss: 0.8986\n"
     ]
    },
    {
     "ename": "OSError",
     "evalue": "Unable to create file (unable to open file: name = 'output_files/models/model_01-7.80.h5', errno = 2, error message = 'No such file or directory', flags = 13, o_flags = 302)",
     "output_type": "error",
     "traceback": [
      "\u001b[1;31m---------------------------------------------------------------------------\u001b[0m",
      "\u001b[1;31mOSError\u001b[0m                                   Traceback (most recent call last)",
      "\u001b[1;32m<ipython-input-7-8cb747b94755>\u001b[0m in \u001b[0;36m<module>\u001b[1;34m\u001b[0m\n\u001b[0;32m      1\u001b[0m \u001b[1;32mfrom\u001b[0m \u001b[0mtrain\u001b[0m \u001b[1;32mimport\u001b[0m \u001b[1;33m*\u001b[0m\u001b[1;33m\u001b[0m\u001b[1;33m\u001b[0m\u001b[0m\n\u001b[1;32m----> 2\u001b[1;33m \u001b[0mtrain\u001b[0m\u001b[1;33m(\u001b[0m\u001b[0mp_seq\u001b[0m\u001b[1;33m)\u001b[0m\u001b[1;33m\u001b[0m\u001b[1;33m\u001b[0m\u001b[0m\n\u001b[0m",
      "\u001b[1;32m~\\Documents\\nasreddine\\Anomaly_Prediction_MultiThreading\\random_sequences_generation_master\\train.py\u001b[0m in \u001b[0;36mtrain\u001b[1;34m(DB_seq)\u001b[0m\n\u001b[0;32m    145\u001b[0m     \u001b[0mlr_reducer\u001b[0m \u001b[1;33m=\u001b[0m \u001b[0mReduceLROnPlateau\u001b[0m\u001b[1;33m(\u001b[0m\u001b[0mmonitor\u001b[0m\u001b[1;33m=\u001b[0m\u001b[1;34m'val_loss'\u001b[0m\u001b[1;33m,\u001b[0m \u001b[0mfactor\u001b[0m\u001b[1;33m=\u001b[0m\u001b[1;36m0.5\u001b[0m\u001b[1;33m,\u001b[0m \u001b[0mpatience\u001b[0m\u001b[1;33m=\u001b[0m\u001b[1;36m10\u001b[0m\u001b[1;33m,\u001b[0m \u001b[0mverbose\u001b[0m\u001b[1;33m=\u001b[0m\u001b[1;36m0\u001b[0m\u001b[1;33m,\u001b[0m \u001b[0mmode\u001b[0m\u001b[1;33m=\u001b[0m\u001b[1;34m'auto'\u001b[0m\u001b[1;33m,\u001b[0m \u001b[0mmin_delta\u001b[0m\u001b[1;33m=\u001b[0m\u001b[1;36m0.0001\u001b[0m\u001b[1;33m,\u001b[0m \u001b[0mcooldown\u001b[0m\u001b[1;33m=\u001b[0m\u001b[1;36m0\u001b[0m\u001b[1;33m,\u001b[0m \u001b[0mmin_lr\u001b[0m\u001b[1;33m=\u001b[0m\u001b[1;36m0\u001b[0m\u001b[1;33m)\u001b[0m\u001b[1;33m\u001b[0m\u001b[1;33m\u001b[0m\u001b[0m\n\u001b[0;32m    146\u001b[0m \u001b[1;33m\u001b[0m\u001b[0m\n\u001b[1;32m--> 147\u001b[1;33m     \u001b[0mmodel\u001b[0m\u001b[1;33m.\u001b[0m\u001b[0mfit\u001b[0m\u001b[1;33m(\u001b[0m\u001b[0mX\u001b[0m\u001b[1;33m,\u001b[0m \u001b[1;33m{\u001b[0m\u001b[1;34m'act_output'\u001b[0m\u001b[1;33m:\u001b[0m\u001b[0my_a\u001b[0m\u001b[1;33m,\u001b[0m \u001b[1;34m'time_output'\u001b[0m\u001b[1;33m:\u001b[0m\u001b[0my_t\u001b[0m\u001b[1;33m}\u001b[0m\u001b[1;33m,\u001b[0m \u001b[0mvalidation_split\u001b[0m\u001b[1;33m=\u001b[0m\u001b[1;36m0.2\u001b[0m\u001b[1;33m,\u001b[0m \u001b[0mverbose\u001b[0m\u001b[1;33m=\u001b[0m\u001b[1;36m2\u001b[0m\u001b[1;33m,\u001b[0m \u001b[0mcallbacks\u001b[0m\u001b[1;33m=\u001b[0m\u001b[1;33m[\u001b[0m\u001b[0mearly_stopping\u001b[0m\u001b[1;33m,\u001b[0m \u001b[0mmodel_checkpoint\u001b[0m\u001b[1;33m,\u001b[0m \u001b[0mlr_reducer\u001b[0m\u001b[1;33m]\u001b[0m\u001b[1;33m,\u001b[0m \u001b[0mbatch_size\u001b[0m\u001b[1;33m=\u001b[0m\u001b[0mmaxlen\u001b[0m\u001b[1;33m,\u001b[0m \u001b[0mepochs\u001b[0m\u001b[1;33m=\u001b[0m\u001b[1;36m500\u001b[0m\u001b[1;33m)\u001b[0m\u001b[1;33m\u001b[0m\u001b[1;33m\u001b[0m\u001b[0m\n\u001b[0m",
      "\u001b[1;32m~\\Anaconda3\\lib\\site-packages\\keras\\engine\\training.py\u001b[0m in \u001b[0;36mfit\u001b[1;34m(self, x, y, batch_size, epochs, verbose, callbacks, validation_split, validation_data, shuffle, class_weight, sample_weight, initial_epoch, steps_per_epoch, validation_steps, **kwargs)\u001b[0m\n\u001b[0;32m   1037\u001b[0m                                         \u001b[0minitial_epoch\u001b[0m\u001b[1;33m=\u001b[0m\u001b[0minitial_epoch\u001b[0m\u001b[1;33m,\u001b[0m\u001b[1;33m\u001b[0m\u001b[1;33m\u001b[0m\u001b[0m\n\u001b[0;32m   1038\u001b[0m                                         \u001b[0msteps_per_epoch\u001b[0m\u001b[1;33m=\u001b[0m\u001b[0msteps_per_epoch\u001b[0m\u001b[1;33m,\u001b[0m\u001b[1;33m\u001b[0m\u001b[1;33m\u001b[0m\u001b[0m\n\u001b[1;32m-> 1039\u001b[1;33m                                         validation_steps=validation_steps)\n\u001b[0m\u001b[0;32m   1040\u001b[0m \u001b[1;33m\u001b[0m\u001b[0m\n\u001b[0;32m   1041\u001b[0m     def evaluate(self, x=None, y=None,\n",
      "\u001b[1;32m~\\Anaconda3\\lib\\site-packages\\keras\\engine\\training_arrays.py\u001b[0m in \u001b[0;36mfit_loop\u001b[1;34m(model, f, ins, out_labels, batch_size, epochs, verbose, callbacks, val_f, val_ins, shuffle, callback_metrics, initial_epoch, steps_per_epoch, validation_steps)\u001b[0m\n\u001b[0;32m    215\u001b[0m                         \u001b[1;32mfor\u001b[0m \u001b[0ml\u001b[0m\u001b[1;33m,\u001b[0m \u001b[0mo\u001b[0m \u001b[1;32min\u001b[0m \u001b[0mzip\u001b[0m\u001b[1;33m(\u001b[0m\u001b[0mout_labels\u001b[0m\u001b[1;33m,\u001b[0m \u001b[0mval_outs\u001b[0m\u001b[1;33m)\u001b[0m\u001b[1;33m:\u001b[0m\u001b[1;33m\u001b[0m\u001b[1;33m\u001b[0m\u001b[0m\n\u001b[0;32m    216\u001b[0m                             \u001b[0mepoch_logs\u001b[0m\u001b[1;33m[\u001b[0m\u001b[1;34m'val_'\u001b[0m \u001b[1;33m+\u001b[0m \u001b[0ml\u001b[0m\u001b[1;33m]\u001b[0m \u001b[1;33m=\u001b[0m \u001b[0mo\u001b[0m\u001b[1;33m\u001b[0m\u001b[1;33m\u001b[0m\u001b[0m\n\u001b[1;32m--> 217\u001b[1;33m         \u001b[0mcallbacks\u001b[0m\u001b[1;33m.\u001b[0m\u001b[0mon_epoch_end\u001b[0m\u001b[1;33m(\u001b[0m\u001b[0mepoch\u001b[0m\u001b[1;33m,\u001b[0m \u001b[0mepoch_logs\u001b[0m\u001b[1;33m)\u001b[0m\u001b[1;33m\u001b[0m\u001b[1;33m\u001b[0m\u001b[0m\n\u001b[0m\u001b[0;32m    218\u001b[0m         \u001b[1;32mif\u001b[0m \u001b[0mcallback_model\u001b[0m\u001b[1;33m.\u001b[0m\u001b[0mstop_training\u001b[0m\u001b[1;33m:\u001b[0m\u001b[1;33m\u001b[0m\u001b[1;33m\u001b[0m\u001b[0m\n\u001b[0;32m    219\u001b[0m             \u001b[1;32mbreak\u001b[0m\u001b[1;33m\u001b[0m\u001b[1;33m\u001b[0m\u001b[0m\n",
      "\u001b[1;32m~\\Anaconda3\\lib\\site-packages\\keras\\callbacks.py\u001b[0m in \u001b[0;36mon_epoch_end\u001b[1;34m(self, epoch, logs)\u001b[0m\n\u001b[0;32m     77\u001b[0m         \u001b[0mlogs\u001b[0m \u001b[1;33m=\u001b[0m \u001b[0mlogs\u001b[0m \u001b[1;32mor\u001b[0m \u001b[1;33m{\u001b[0m\u001b[1;33m}\u001b[0m\u001b[1;33m\u001b[0m\u001b[1;33m\u001b[0m\u001b[0m\n\u001b[0;32m     78\u001b[0m         \u001b[1;32mfor\u001b[0m \u001b[0mcallback\u001b[0m \u001b[1;32min\u001b[0m \u001b[0mself\u001b[0m\u001b[1;33m.\u001b[0m\u001b[0mcallbacks\u001b[0m\u001b[1;33m:\u001b[0m\u001b[1;33m\u001b[0m\u001b[1;33m\u001b[0m\u001b[0m\n\u001b[1;32m---> 79\u001b[1;33m             \u001b[0mcallback\u001b[0m\u001b[1;33m.\u001b[0m\u001b[0mon_epoch_end\u001b[0m\u001b[1;33m(\u001b[0m\u001b[0mepoch\u001b[0m\u001b[1;33m,\u001b[0m \u001b[0mlogs\u001b[0m\u001b[1;33m)\u001b[0m\u001b[1;33m\u001b[0m\u001b[1;33m\u001b[0m\u001b[0m\n\u001b[0m\u001b[0;32m     80\u001b[0m \u001b[1;33m\u001b[0m\u001b[0m\n\u001b[0;32m     81\u001b[0m     \u001b[1;32mdef\u001b[0m \u001b[0mon_batch_begin\u001b[0m\u001b[1;33m(\u001b[0m\u001b[0mself\u001b[0m\u001b[1;33m,\u001b[0m \u001b[0mbatch\u001b[0m\u001b[1;33m,\u001b[0m \u001b[0mlogs\u001b[0m\u001b[1;33m=\u001b[0m\u001b[1;32mNone\u001b[0m\u001b[1;33m)\u001b[0m\u001b[1;33m:\u001b[0m\u001b[1;33m\u001b[0m\u001b[1;33m\u001b[0m\u001b[0m\n",
      "\u001b[1;32m~\\Anaconda3\\lib\\site-packages\\keras\\callbacks.py\u001b[0m in \u001b[0;36mon_epoch_end\u001b[1;34m(self, epoch, logs)\u001b[0m\n\u001b[0;32m    444\u001b[0m                             \u001b[0mself\u001b[0m\u001b[1;33m.\u001b[0m\u001b[0mmodel\u001b[0m\u001b[1;33m.\u001b[0m\u001b[0msave_weights\u001b[0m\u001b[1;33m(\u001b[0m\u001b[0mfilepath\u001b[0m\u001b[1;33m,\u001b[0m \u001b[0moverwrite\u001b[0m\u001b[1;33m=\u001b[0m\u001b[1;32mTrue\u001b[0m\u001b[1;33m)\u001b[0m\u001b[1;33m\u001b[0m\u001b[1;33m\u001b[0m\u001b[0m\n\u001b[0;32m    445\u001b[0m                         \u001b[1;32melse\u001b[0m\u001b[1;33m:\u001b[0m\u001b[1;33m\u001b[0m\u001b[1;33m\u001b[0m\u001b[0m\n\u001b[1;32m--> 446\u001b[1;33m                             \u001b[0mself\u001b[0m\u001b[1;33m.\u001b[0m\u001b[0mmodel\u001b[0m\u001b[1;33m.\u001b[0m\u001b[0msave\u001b[0m\u001b[1;33m(\u001b[0m\u001b[0mfilepath\u001b[0m\u001b[1;33m,\u001b[0m \u001b[0moverwrite\u001b[0m\u001b[1;33m=\u001b[0m\u001b[1;32mTrue\u001b[0m\u001b[1;33m)\u001b[0m\u001b[1;33m\u001b[0m\u001b[1;33m\u001b[0m\u001b[0m\n\u001b[0m\u001b[0;32m    447\u001b[0m                     \u001b[1;32melse\u001b[0m\u001b[1;33m:\u001b[0m\u001b[1;33m\u001b[0m\u001b[1;33m\u001b[0m\u001b[0m\n\u001b[0;32m    448\u001b[0m                         \u001b[1;32mif\u001b[0m \u001b[0mself\u001b[0m\u001b[1;33m.\u001b[0m\u001b[0mverbose\u001b[0m \u001b[1;33m>\u001b[0m \u001b[1;36m0\u001b[0m\u001b[1;33m:\u001b[0m\u001b[1;33m\u001b[0m\u001b[1;33m\u001b[0m\u001b[0m\n",
      "\u001b[1;32m~\\Anaconda3\\lib\\site-packages\\keras\\engine\\network.py\u001b[0m in \u001b[0;36msave\u001b[1;34m(self, filepath, overwrite, include_optimizer)\u001b[0m\n\u001b[0;32m   1088\u001b[0m             \u001b[1;32mraise\u001b[0m \u001b[0mNotImplementedError\u001b[0m\u001b[1;33m\u001b[0m\u001b[1;33m\u001b[0m\u001b[0m\n\u001b[0;32m   1089\u001b[0m         \u001b[1;32mfrom\u001b[0m \u001b[1;33m.\u001b[0m\u001b[1;33m.\u001b[0m\u001b[0mmodels\u001b[0m \u001b[1;32mimport\u001b[0m \u001b[0msave_model\u001b[0m\u001b[1;33m\u001b[0m\u001b[1;33m\u001b[0m\u001b[0m\n\u001b[1;32m-> 1090\u001b[1;33m         \u001b[0msave_model\u001b[0m\u001b[1;33m(\u001b[0m\u001b[0mself\u001b[0m\u001b[1;33m,\u001b[0m \u001b[0mfilepath\u001b[0m\u001b[1;33m,\u001b[0m \u001b[0moverwrite\u001b[0m\u001b[1;33m,\u001b[0m \u001b[0minclude_optimizer\u001b[0m\u001b[1;33m)\u001b[0m\u001b[1;33m\u001b[0m\u001b[1;33m\u001b[0m\u001b[0m\n\u001b[0m\u001b[0;32m   1091\u001b[0m \u001b[1;33m\u001b[0m\u001b[0m\n\u001b[0;32m   1092\u001b[0m     \u001b[1;32mdef\u001b[0m \u001b[0msave_weights\u001b[0m\u001b[1;33m(\u001b[0m\u001b[0mself\u001b[0m\u001b[1;33m,\u001b[0m \u001b[0mfilepath\u001b[0m\u001b[1;33m,\u001b[0m \u001b[0moverwrite\u001b[0m\u001b[1;33m=\u001b[0m\u001b[1;32mTrue\u001b[0m\u001b[1;33m)\u001b[0m\u001b[1;33m:\u001b[0m\u001b[1;33m\u001b[0m\u001b[1;33m\u001b[0m\u001b[0m\n",
      "\u001b[1;32m~\\Anaconda3\\lib\\site-packages\\keras\\engine\\saving.py\u001b[0m in \u001b[0;36msave_model\u001b[1;34m(model, filepath, overwrite, include_optimizer)\u001b[0m\n\u001b[0;32m    377\u001b[0m         \u001b[0mopened_new_file\u001b[0m \u001b[1;33m=\u001b[0m \u001b[1;32mFalse\u001b[0m\u001b[1;33m\u001b[0m\u001b[1;33m\u001b[0m\u001b[0m\n\u001b[0;32m    378\u001b[0m \u001b[1;33m\u001b[0m\u001b[0m\n\u001b[1;32m--> 379\u001b[1;33m     \u001b[0mf\u001b[0m \u001b[1;33m=\u001b[0m \u001b[0mh5dict\u001b[0m\u001b[1;33m(\u001b[0m\u001b[0mfilepath\u001b[0m\u001b[1;33m,\u001b[0m \u001b[0mmode\u001b[0m\u001b[1;33m=\u001b[0m\u001b[1;34m'w'\u001b[0m\u001b[1;33m)\u001b[0m\u001b[1;33m\u001b[0m\u001b[1;33m\u001b[0m\u001b[0m\n\u001b[0m\u001b[0;32m    380\u001b[0m \u001b[1;33m\u001b[0m\u001b[0m\n\u001b[0;32m    381\u001b[0m     \u001b[1;32mtry\u001b[0m\u001b[1;33m:\u001b[0m\u001b[1;33m\u001b[0m\u001b[1;33m\u001b[0m\u001b[0m\n",
      "\u001b[1;32m~\\Anaconda3\\lib\\site-packages\\keras\\utils\\io_utils.py\u001b[0m in \u001b[0;36m__init__\u001b[1;34m(self, path, mode)\u001b[0m\n\u001b[0;32m    184\u001b[0m             \u001b[0mself\u001b[0m\u001b[1;33m.\u001b[0m\u001b[0m_is_file\u001b[0m \u001b[1;33m=\u001b[0m \u001b[1;32mFalse\u001b[0m\u001b[1;33m\u001b[0m\u001b[1;33m\u001b[0m\u001b[0m\n\u001b[0;32m    185\u001b[0m         \u001b[1;32melif\u001b[0m \u001b[0misinstance\u001b[0m\u001b[1;33m(\u001b[0m\u001b[0mpath\u001b[0m\u001b[1;33m,\u001b[0m \u001b[0mstr\u001b[0m\u001b[1;33m)\u001b[0m\u001b[1;33m:\u001b[0m\u001b[1;33m\u001b[0m\u001b[1;33m\u001b[0m\u001b[0m\n\u001b[1;32m--> 186\u001b[1;33m             \u001b[0mself\u001b[0m\u001b[1;33m.\u001b[0m\u001b[0mdata\u001b[0m \u001b[1;33m=\u001b[0m \u001b[0mh5py\u001b[0m\u001b[1;33m.\u001b[0m\u001b[0mFile\u001b[0m\u001b[1;33m(\u001b[0m\u001b[0mpath\u001b[0m\u001b[1;33m,\u001b[0m \u001b[0mmode\u001b[0m\u001b[1;33m=\u001b[0m\u001b[0mmode\u001b[0m\u001b[1;33m)\u001b[0m\u001b[1;33m\u001b[0m\u001b[1;33m\u001b[0m\u001b[0m\n\u001b[0m\u001b[0;32m    187\u001b[0m             \u001b[0mself\u001b[0m\u001b[1;33m.\u001b[0m\u001b[0m_is_file\u001b[0m \u001b[1;33m=\u001b[0m \u001b[1;32mTrue\u001b[0m\u001b[1;33m\u001b[0m\u001b[1;33m\u001b[0m\u001b[0m\n\u001b[0;32m    188\u001b[0m         \u001b[1;32melif\u001b[0m \u001b[0misinstance\u001b[0m\u001b[1;33m(\u001b[0m\u001b[0mpath\u001b[0m\u001b[1;33m,\u001b[0m \u001b[0mdict\u001b[0m\u001b[1;33m)\u001b[0m\u001b[1;33m:\u001b[0m\u001b[1;33m\u001b[0m\u001b[1;33m\u001b[0m\u001b[0m\n",
      "\u001b[1;32m~\\Anaconda3\\lib\\site-packages\\h5py\\_hl\\files.py\u001b[0m in \u001b[0;36m__init__\u001b[1;34m(self, name, mode, driver, libver, userblock_size, swmr, rdcc_nslots, rdcc_nbytes, rdcc_w0, track_order, **kwds)\u001b[0m\n\u001b[0;32m    392\u001b[0m                 fid = make_fid(name, mode, userblock_size,\n\u001b[0;32m    393\u001b[0m                                \u001b[0mfapl\u001b[0m\u001b[1;33m,\u001b[0m \u001b[0mfcpl\u001b[0m\u001b[1;33m=\u001b[0m\u001b[0mmake_fcpl\u001b[0m\u001b[1;33m(\u001b[0m\u001b[0mtrack_order\u001b[0m\u001b[1;33m=\u001b[0m\u001b[0mtrack_order\u001b[0m\u001b[1;33m)\u001b[0m\u001b[1;33m,\u001b[0m\u001b[1;33m\u001b[0m\u001b[1;33m\u001b[0m\u001b[0m\n\u001b[1;32m--> 394\u001b[1;33m                                swmr=swmr)\n\u001b[0m\u001b[0;32m    395\u001b[0m \u001b[1;33m\u001b[0m\u001b[0m\n\u001b[0;32m    396\u001b[0m             \u001b[1;32mif\u001b[0m \u001b[0mswmr_support\u001b[0m\u001b[1;33m:\u001b[0m\u001b[1;33m\u001b[0m\u001b[1;33m\u001b[0m\u001b[0m\n",
      "\u001b[1;32m~\\Anaconda3\\lib\\site-packages\\h5py\\_hl\\files.py\u001b[0m in \u001b[0;36mmake_fid\u001b[1;34m(name, mode, userblock_size, fapl, fcpl, swmr)\u001b[0m\n\u001b[0;32m    174\u001b[0m         \u001b[0mfid\u001b[0m \u001b[1;33m=\u001b[0m \u001b[0mh5f\u001b[0m\u001b[1;33m.\u001b[0m\u001b[0mcreate\u001b[0m\u001b[1;33m(\u001b[0m\u001b[0mname\u001b[0m\u001b[1;33m,\u001b[0m \u001b[0mh5f\u001b[0m\u001b[1;33m.\u001b[0m\u001b[0mACC_EXCL\u001b[0m\u001b[1;33m,\u001b[0m \u001b[0mfapl\u001b[0m\u001b[1;33m=\u001b[0m\u001b[0mfapl\u001b[0m\u001b[1;33m,\u001b[0m \u001b[0mfcpl\u001b[0m\u001b[1;33m=\u001b[0m\u001b[0mfcpl\u001b[0m\u001b[1;33m)\u001b[0m\u001b[1;33m\u001b[0m\u001b[1;33m\u001b[0m\u001b[0m\n\u001b[0;32m    175\u001b[0m     \u001b[1;32melif\u001b[0m \u001b[0mmode\u001b[0m \u001b[1;33m==\u001b[0m \u001b[1;34m'w'\u001b[0m\u001b[1;33m:\u001b[0m\u001b[1;33m\u001b[0m\u001b[1;33m\u001b[0m\u001b[0m\n\u001b[1;32m--> 176\u001b[1;33m         \u001b[0mfid\u001b[0m \u001b[1;33m=\u001b[0m \u001b[0mh5f\u001b[0m\u001b[1;33m.\u001b[0m\u001b[0mcreate\u001b[0m\u001b[1;33m(\u001b[0m\u001b[0mname\u001b[0m\u001b[1;33m,\u001b[0m \u001b[0mh5f\u001b[0m\u001b[1;33m.\u001b[0m\u001b[0mACC_TRUNC\u001b[0m\u001b[1;33m,\u001b[0m \u001b[0mfapl\u001b[0m\u001b[1;33m=\u001b[0m\u001b[0mfapl\u001b[0m\u001b[1;33m,\u001b[0m \u001b[0mfcpl\u001b[0m\u001b[1;33m=\u001b[0m\u001b[0mfcpl\u001b[0m\u001b[1;33m)\u001b[0m\u001b[1;33m\u001b[0m\u001b[1;33m\u001b[0m\u001b[0m\n\u001b[0m\u001b[0;32m    177\u001b[0m     \u001b[1;32melif\u001b[0m \u001b[0mmode\u001b[0m \u001b[1;33m==\u001b[0m \u001b[1;34m'a'\u001b[0m\u001b[1;33m:\u001b[0m\u001b[1;33m\u001b[0m\u001b[1;33m\u001b[0m\u001b[0m\n\u001b[0;32m    178\u001b[0m         \u001b[1;31m# Open in append mode (read/write).\u001b[0m\u001b[1;33m\u001b[0m\u001b[1;33m\u001b[0m\u001b[1;33m\u001b[0m\u001b[0m\n",
      "\u001b[1;32mh5py\\_objects.pyx\u001b[0m in \u001b[0;36mh5py._objects.with_phil.wrapper\u001b[1;34m()\u001b[0m\n",
      "\u001b[1;32mh5py\\_objects.pyx\u001b[0m in \u001b[0;36mh5py._objects.with_phil.wrapper\u001b[1;34m()\u001b[0m\n",
      "\u001b[1;32mh5py\\h5f.pyx\u001b[0m in \u001b[0;36mh5py.h5f.create\u001b[1;34m()\u001b[0m\n",
      "\u001b[1;31mOSError\u001b[0m: Unable to create file (unable to open file: name = 'output_files/models/model_01-7.80.h5', errno = 2, error message = 'No such file or directory', flags = 13, o_flags = 302)"
     ]
    }
   ],
   "source": [
    "from train import *\n",
    "train(p_seq)"
   ]
  },
  {
   "cell_type": "code",
   "execution_count": 1,
   "metadata": {},
   "outputs": [
    {
     "name": "stdout",
     "output_type": "stream",
     "text": [
      "0.0 0.0\n"
     ]
    }
   ],
   "source": [
    "import distance\n",
    "d=distance.nlevenshtein('16', '16')\n",
    "d1=distance.nlevenshtein('a', 'a')\n",
    "print(d,d1)"
   ]
  },
  {
   "cell_type": "code",
   "execution_count": 10,
   "metadata": {},
   "outputs": [
    {
     "name": "stdout",
     "output_type": "stream",
     "text": [
      "12\n"
     ]
    }
   ],
   "source": [
    "import functools\n",
    "print (functools.reduce (lambda a, b: a * b , [1, 2, 3,2], 1)) # Équivaut à ((1 * 1) * 2) * 3"
   ]
  },
  {
   "cell_type": "code",
   "execution_count": 26,
   "metadata": {},
   "outputs": [
    {
     "name": "stdout",
     "output_type": "stream",
     "text": [
      "[(103, 1), (404, 1), (419, 15), (470, 11), (585, 8)]\n"
     ]
    }
   ],
   "source": [
    "print(DB_seq[4])"
   ]
  },
  {
   "cell_type": "code",
   "execution_count": 36,
   "metadata": {},
   "outputs": [
    {
     "name": "stdout",
     "output_type": "stream",
     "text": [
      "[(20, 13), (36, 8), (281, 2), (375, 1), (430, 15), (516, 11), (534, 8), (592, 19), (970, 9)]\n",
      "[(188, 5), (213, 2), (306, 6), (382, 2), (416, 7), (465, 1), (488, 15), (515, 11), (535, 15), (808, 16)]\n",
      "[(241, 6), (366, 18), (396, 1), (424, 15), (543, 11), (597, 17), (619, 9), (827, 4), (843, 15)]\n",
      "[(125, 8), (129, 1), (198, 15), (235, 11), (406, 3), (709, 14), (892, 6), (897, 8), (917, 10)]\n",
      "[(237, 1), (266, 15), (374, 15), (384, 11), (602, 12), (639, 1), (717, 19), (895, 4), (925, 11), (948, 10)]\n",
      "[(70, 1), (94, 15), (207, 11), (270, 6), (308, 16), (310, 0), (595, 4), (727, 13), (805, 13), (853, 14), (927, 18)]\n",
      "[(70, 0), (107, 6), (166, 1), (203, 15), (255, 11), (398, 16), (409, 3), (525, 13), (571, 14), (728, 4)]\n",
      "[(148, 1), (342, 15), (362, 1), (419, 13), (425, 7), (433, 15), (470, 11), (482, 17), (794, 8)]\n",
      "[(88, 19), (202, 1), (284, 15), (290, 1), (332, 9), (349, 15), (456, 11), (568, 6), (937, 19)]\n",
      "[(7, 1), (67, 15), (118, 11), (254, 5), (358, 13), (520, 19), (581, 0)]\n",
      "[(111, 1), (130, 15), (244, 11), (383, 19), (601, 1), (619, 16), (826, 4), (827, 3), (998, 14)]\n",
      "[(71, 13), (179, 12), (342, 1), (373, 15), (423, 11), (494, 16), (548, 12), (586, 7), (612, 8), (966, 10)]\n",
      "[(18, 0), (35, 19), (435, 15), (478, 1), (496, 15), (524, 13), (535, 11), (958, 17)]\n",
      "[(20, 1), (59, 15), (92, 11), (286, 0), (538, 5), (602, 19), (676, 12), (868, 2), (883, 10)]\n",
      "[(25, 5), (138, 7), (186, 1), (219, 15), (319, 11), (398, 14), (520, 8), (636, 9), (909, 17)]\n",
      "[(29, 3), (115, 1), (137, 3), (168, 15), (272, 11), (410, 10), (692, 19), (756, 13), (759, 0), (760, 13), (845, 16)]\n",
      "[(319, 1), (384, 15), (446, 11), (580, 4), (608, 17), (671, 5), (804, 5), (878, 5)]\n",
      "[(134, 12), (385, 12), (425, 1), (482, 15), (498, 17), (500, 11), (676, 16), (750, 19), (951, 7)]\n",
      "[(106, 4), (131, 1), (286, 16), (352, 13), (362, 1), (396, 15), (397, 1), (452, 11), (510, 0), (761, 13)]\n",
      "[(217, 1), (248, 15), (311, 11), (507, 3), (732, 8), (832, 9), (868, 2), (902, 7)]\n",
      "[(129, 3), (202, 1), (261, 15), (286, 4), (301, 11), (411, 12), (543, 18), (631, 0), (714, 7), (983, 8), (987, 0)]\n",
      "[(40, 1), (73, 15), (93, 9), (93, 10), (150, 11), (247, 15), (297, 8), (657, 13), (840, 9), (994, 18)]\n",
      "[(336, 1), (379, 15), (438, 11), (609, 6), (780, 12), (783, 1), (943, 12), (958, 14)]\n",
      "[(24, 8), (207, 11), (267, 0), (273, 14), (417, 1), (456, 4), (464, 15), (573, 11), (772, 4)]\n",
      "[(93, 2), (190, 1), (198, 5), (228, 15), (247, 16), (272, 11), (673, 19), (745, 2), (800, 1), (843, 0), (891, 2)]\n",
      "[(47, 4), (190, 9), (270, 14), (326, 1), (411, 15), (519, 11), (588, 8), (869, 18), (884, 9)]\n",
      "[(197, 6), (257, 4), (326, 1), (367, 15), (478, 11), (504, 16), (620, 18), (692, 10), (734, 14), (790, 6)]\n",
      "[(4, 12), (233, 1), (241, 3), (259, 15), (344, 15), (355, 11), (449, 12), (534, 8), (605, 12), (636, 3), (847, 5)]\n",
      "[(307, 9), (330, 1), (372, 15), (430, 11), (520, 12), (634, 14), (765, 7), (845, 8)]\n",
      "[(10, 9), (130, 1), (201, 15), (218, 11), (245, 17), (290, 11), (649, 16), (752, 14), (895, 8)]\n",
      "[(3, 1), (23, 15), (61, 11), (121, 18), (504, 2), (622, 8), (691, 18), (865, 2), (945, 1), (992, 8)]\n",
      "[(53, 9), (137, 2), (175, 1), (215, 15), (233, 11), (624, 9), (684, 13), (796, 15)]\n",
      "[(125, 3), (252, 16), (318, 1), (379, 15), (491, 11), (544, 10), (719, 12), (833, 14), (991, 16), (996, 7)]\n",
      "[(103, 13), (139, 18), (236, 1), (292, 15), (310, 11), (362, 13), (773, 4), (794, 15)]\n",
      "[(53, 16), (154, 1), (235, 15), (239, 13), (323, 6), (338, 11), (381, 4), (738, 16), (818, 3), (941, 12)]\n",
      "[(64, 14), (122, 1), (160, 15), (201, 4), (227, 11), (628, 8), (820, 1), (859, 18), (867, 0), (964, 18)]\n",
      "[(142, 12), (149, 8), (330, 1), (336, 5), (347, 15), (455, 11), (544, 6), (558, 3), (664, 3)]\n",
      "[(36, 18), (45, 0), (147, 3), (209, 1), (209, 7), (260, 15), (305, 11), (667, 8), (748, 5), (769, 18)]\n",
      "[(83, 1), (132, 15), (146, 11), (224, 11), (331, 11), (339, 10), (516, 16), (773, 15), (942, 7)]\n",
      "[(117, 4), (241, 1), (266, 15), (321, 11), (606, 1), (608, 18), (682, 10), (689, 3), (751, 7)]\n",
      "[(6, 1), (23, 18), (34, 15), (37, 7), (51, 11), (264, 2), (287, 9), (344, 8), (752, 6), (918, 7)]\n",
      "[(175, 1), (203, 15), (231, 11), (330, 3), (453, 19), (578, 9), (588, 5), (708, 1), (896, 4), (941, 6)]\n",
      "[(71, 2), (94, 2), (290, 1), (306, 15), (309, 2), (330, 11), (377, 18), (441, 11), (530, 18), (649, 17), (739, 5)]\n",
      "[(71, 9), (122, 11), (293, 1), (333, 15), (380, 11), (428, 5), (467, 1), (546, 14), (673, 12), (993, 2)]\n",
      "[(39, 1), (97, 8), (103, 15), (214, 11), (368, 1), (399, 11), (674, 11), (901, 10), (992, 15)]\n",
      "[(189, 8), (268, 1), (345, 15), (361, 11), (493, 9), (658, 9), (662, 5), (759, 1), (779, 16), (887, 0), (996, 10)]\n",
      "[(38, 1), (115, 15), (130, 11), (328, 17), (431, 6), (788, 6), (851, 13), (878, 6), (889, 17)]\n",
      "[(100, 1), (106, 10), (123, 15), (170, 11), (829, 6), (909, 16), (944, 17)]\n",
      "[(38, 1), (81, 15), (95, 19), (131, 11), (269, 12), (366, 16), (394, 3), (411, 15), (462, 0), (474, 18), (718, 10), (870, 2)]\n",
      "[(243, 6), (289, 1), (314, 1), (326, 13), (391, 15), (412, 11), (418, 16), (578, 6), (808, 0), (832, 13)]\n",
      "[(142, 1), (204, 6), (222, 15), (338, 11), (509, 2), (857, 9), (878, 14), (980, 3)]\n",
      "[(103, 17), (129, 4), (221, 1), (257, 17), (282, 15), (319, 11), (505, 2), (589, 6), (823, 0), (989, 16)]\n",
      "[(67, 0), (69, 6), (276, 16), (337, 6), (390, 1), (402, 18), (455, 15), (518, 11), (523, 7), (617, 1), (995, 5)]\n",
      "[(131, 3), (155, 5), (270, 6), (330, 4), (433, 1), (449, 15), (525, 11), (804, 7), (944, 17)]\n",
      "[(246, 7), (337, 1), (394, 6), (416, 15), (477, 6), (533, 11), (704, 6), (714, 3)]\n",
      "[(176, 1), (226, 15), (266, 11), (542, 7), (553, 18), (665, 7), (672, 14), (674, 17), (900, 7)]\n",
      "[(58, 0), (133, 17), (193, 14), (215, 1), (239, 2), (270, 15), (278, 1), (340, 11), (582, 2), (828, 15)]\n",
      "[(167, 1), (209, 1), (215, 15), (241, 11), (273, 11), (365, 10), (577, 9), (704, 12), (711, 15), (921, 5)]\n",
      "[(76, 10), (194, 3), (228, 1), (287, 15), (350, 5), (352, 11), (447, 4)]\n",
      "[(20, 17), (186, 1), (212, 5), (245, 15), (319, 11), (599, 7), (641, 15), (677, 6), (952, 7), (979, 0), (984, 12)]\n",
      "[(113, 1), (173, 15), (181, 0), (191, 15), (253, 11), (313, 11), (392, 1), (492, 13), (555, 3), (804, 6)]\n",
      "[(144, 9), (180, 10), (195, 1), (281, 15), (380, 11), (385, 6), (577, 11), (577, 5), (592, 7), (720, 13)]\n",
      "[(22, 15), (81, 1), (112, 15), (169, 11), (197, 19), (199, 12), (271, 7), (359, 0), (452, 2), (580, 19)]\n",
      "[(40, 4), (67, 15), (81, 2), (144, 1), (218, 17), (223, 15), (284, 11), (715, 7), (722, 18), (771, 1)]\n",
      "[(73, 14), (75, 5), (237, 1), (263, 9), (316, 15), (386, 11), (655, 5), (737, 14), (969, 12)]\n",
      "[(50, 15), (168, 1), (190, 15), (219, 11), (368, 16), (386, 7), (509, 18), (802, 3)]\n",
      "[(184, 1), (210, 15), (279, 11), (394, 6), (417, 17), (430, 18), (667, 0), (876, 18), (896, 9)]\n",
      "[(100, 17), (125, 16), (139, 7), (281, 1), (308, 15), (328, 19), (383, 16), (390, 11), (680, 3)]\n",
      "[(200, 1), (219, 15), (306, 13), (327, 11), (338, 18), (443, 16), (494, 9), (665, 5), (714, 11), (918, 13)]\n",
      "[(191, 1), (402, 1), (407, 14), (480, 15), (482, 7), (513, 11), (563, 18), (812, 5), (829, 19), (844, 5)]\n",
      "[(228, 1), (272, 15), (315, 15), (370, 11), (563, 12), (572, 1), (691, 13), (976, 6)]\n",
      "[(93, 1), (125, 15), (187, 11), (285, 19), (337, 2), (430, 2), (551, 19), (644, 14), (844, 5), (863, 7), (966, 9)]\n",
      "[(90, 14), (91, 17), (98, 1), (156, 15), (219, 15), (269, 11), (485, 3), (533, 7), (540, 5), (890, 5)]\n",
      "[(33, 3), (56, 7), (66, 12), (203, 10), (235, 5), (276, 4), (314, 1), (369, 15), (396, 13), (428, 17), (462, 11)]\n",
      "[(68, 2), (211, 1), (222, 9), (224, 1), (242, 15), (297, 19), (336, 11), (557, 0), (576, 4), (712, 4), (921, 5)]\n",
      "[(176, 1), (254, 15), (324, 2), (333, 11), (399, 11), (440, 4), (522, 12), (544, 14), (681, 14), (937, 17)]\n",
      "[(79, 1), (119, 15), (221, 11), (248, 4), (265, 15), (459, 9), (601, 10), (671, 5), (989, 14)]\n",
      "[(58, 10), (61, 1), (142, 15), (213, 8), (228, 11), (484, 15), (653, 6), (761, 2), (942, 9)]\n",
      "[(293, 6), (334, 16), (368, 1), (410, 15), (432, 11), (763, 14), (921, 8), (966, 14)]\n",
      "[(26, 1), (87, 15), (141, 11), (197, 13), (234, 18), (440, 4), (879, 3), (954, 11), (962, 7)]\n",
      "[(42, 6), (105, 9), (185, 1), (201, 14), (247, 15), (300, 11), (493, 4), (594, 17), (664, 17), (927, 8), (970, 11)]\n",
      "[(212, 4), (282, 18), (310, 1), (385, 13), (395, 15), (395, 8), (482, 11), (526, 0), (710, 4), (829, 15)]\n",
      "[(222, 16), (382, 1), (387, 19), (434, 15), (499, 19), (529, 11), (548, 7), (738, 17), (822, 12), (917, 9), (977, 14)]\n",
      "[(215, 9), (311, 18), (415, 5), (446, 1), (470, 8), (472, 15), (513, 11), (720, 11), (938, 15)]\n",
      "[(113, 1), (191, 15), (262, 11), (368, 17), (462, 12), (505, 5), (594, 9), (634, 16), (683, 12), (852, 11)]\n",
      "[(59, 2), (242, 1), (281, 15), (329, 3), (386, 11), (498, 2), (593, 1)]\n",
      "[(54, 15), (150, 4), (266, 1), (341, 15), (424, 11), (433, 10), (554, 13), (785, 18), (968, 10)]\n",
      "[(1, 3), (141, 17), (157, 10), (268, 1), (291, 15), (349, 7), (351, 13), (375, 11), (419, 5), (467, 18), (757, 3)]\n",
      "[(242, 12), (403, 1), (457, 15), (563, 11), (617, 14), (681, 1), (712, 16), (850, 10), (926, 5)]\n",
      "[(36, 3), (67, 1), (124, 15), (187, 11), (278, 3), (287, 13), (603, 9), (816, 16), (831, 5)]\n",
      "[(121, 19), (225, 11), (356, 11), (412, 1), (486, 15), (515, 11), (528, 15), (545, 5), (796, 3)]\n",
      "[(43, 4), (263, 1), (294, 15), (361, 11), (555, 11), (559, 3), (582, 1), (650, 11), (688, 11), (748, 11)]\n",
      "[(76, 13), (85, 13), (216, 16), (254, 1), (303, 15), (330, 11), (553, 16), (625, 8), (769, 13), (940, 13)]\n",
      "[(99, 2), (105, 16), (177, 4), (278, 1), (282, 16), (361, 15), (434, 11), (467, 8), (546, 9)]\n",
      "[(85, 1), (134, 15), (252, 11), (411, 9), (584, 14), (746, 18), (783, 11), (898, 4)]\n",
      "[(28, 1), (44, 15), (84, 11), (166, 8), (363, 14), (585, 15), (713, 19), (741, 18), (806, 18)]\n"
     ]
    }
   ],
   "source": [
    "for seq in trainseq: #the rows are \"ChID,sequence,TC\"\n",
    "    print(seq)"
   ]
  },
  {
   "cell_type": "code",
   "execution_count": 8,
   "metadata": {},
   "outputs": [],
   "source": [
    "def read_text_file(filename):\n",
    "    print('Reading file ' + filename + \"...\")\n",
    "    with open(filename, \"r\", encoding='utf8') as textfile:\n",
    "        L = []\n",
    "        for line in textfile:\n",
    "            L.append(line.strip())\n",
    "        print('File contains ', len(L), \"lines.\\n\")\n",
    "        return L"
   ]
  },
  {
   "cell_type": "code",
   "execution_count": 9,
   "metadata": {},
   "outputs": [
    {
     "name": "stdout",
     "output_type": "stream",
     "text": [
      "Reading file data.txt...\n",
      "File contains  100 lines.\n",
      "\n"
     ]
    }
   ],
   "source": [
    "DB=read_text_file(\"data.txt\")"
   ]
  },
  {
   "cell_type": "code",
   "execution_count": 42,
   "metadata": {},
   "outputs": [],
   "source": [
    "import re \n",
    "  \n",
    "def extract(input):  \n",
    "     # \\d+ is a regular expression which means \n",
    "     # one or more digit \n",
    "     # output will be like ['100','564','365'] \n",
    "    numbers = re.findall('\\d+',input) \n",
    "\n",
    "     # now we need to convert each number into integer \n",
    "     # int(string) converts string into integer \n",
    "    numbers = list(map(int,numbers))\n",
    "    l=[]\n",
    "    for i in range(0,len(numbers)-1,2):\n",
    "        l.append((numbers[i],numbers[i+1]))\n",
    "    return l"
   ]
  },
  {
   "cell_type": "code",
   "execution_count": 49,
   "metadata": {},
   "outputs": [
    {
     "data": {
      "text/plain": [
       "[[(115, 3),\n",
       "  (116, 19),\n",
       "  (446, 16),\n",
       "  (538, 5),\n",
       "  (669, 1),\n",
       "  (735, 5),\n",
       "  (779, 13),\n",
       "  (801, 14),\n",
       "  (819, 0)],\n",
       " [(148, 3),\n",
       "  (148, 8),\n",
       "  (162, 12),\n",
       "  (169, 19),\n",
       "  (316, 6),\n",
       "  (655, 12),\n",
       "  (895, 6),\n",
       "  (984, 2)],\n",
       " [(63, 15),\n",
       "  (135, 3),\n",
       "  (313, 3),\n",
       "  (371, 19),\n",
       "  (434, 14),\n",
       "  (840, 7),\n",
       "  (882, 11),\n",
       "  (902, 3)],\n",
       " [(84, 18),\n",
       "  (109, 12),\n",
       "  (243, 7),\n",
       "  (381, 11),\n",
       "  (396, 3),\n",
       "  (465, 19),\n",
       "  (484, 2),\n",
       "  (530, 2),\n",
       "  (673, 6),\n",
       "  (784, 15),\n",
       "  (992, 5)],\n",
       " [(59, 9),\n",
       "  (74, 7),\n",
       "  (410, 3),\n",
       "  (459, 19),\n",
       "  (510, 11),\n",
       "  (526, 9),\n",
       "  (576, 11),\n",
       "  (755, 19),\n",
       "  (906, 12)],\n",
       " [(42, 6),\n",
       "  (79, 11),\n",
       "  (146, 3),\n",
       "  (154, 19),\n",
       "  (240, 13),\n",
       "  (427, 13),\n",
       "  (592, 11),\n",
       "  (715, 10),\n",
       "  (845, 1),\n",
       "  (858, 15)],\n",
       " [(10, 0),\n",
       "  (55, 10),\n",
       "  (170, 2),\n",
       "  (401, 3),\n",
       "  (434, 2),\n",
       "  (465, 19),\n",
       "  (564, 8),\n",
       "  (696, 8),\n",
       "  (963, 2)],\n",
       " [(19, 14), (275, 3), (314, 19), (362, 3), (490, 17), (863, 3), (889, 18)],\n",
       " [(120, 8),\n",
       "  (274, 3),\n",
       "  (331, 19),\n",
       "  (482, 3),\n",
       "  (583, 16),\n",
       "  (594, 6),\n",
       "  (672, 1),\n",
       "  (870, 10),\n",
       "  (948, 13)],\n",
       " [(22, 7),\n",
       "  (101, 4),\n",
       "  (149, 3),\n",
       "  (158, 19),\n",
       "  (265, 3),\n",
       "  (268, 11),\n",
       "  (509, 17),\n",
       "  (788, 2)],\n",
       " [(32, 18),\n",
       "  (173, 3),\n",
       "  (174, 7),\n",
       "  (242, 19),\n",
       "  (244, 9),\n",
       "  (249, 16),\n",
       "  (292, 5),\n",
       "  (470, 17),\n",
       "  (825, 0),\n",
       "  (858, 13)],\n",
       " [(153, 19),\n",
       "  (177, 5),\n",
       "  (334, 7),\n",
       "  (396, 3),\n",
       "  (417, 19),\n",
       "  (475, 3),\n",
       "  (476, 2),\n",
       "  (490, 18),\n",
       "  (899, 19),\n",
       "  (998, 9)],\n",
       " [(67, 3),\n",
       "  (76, 19),\n",
       "  (142, 15),\n",
       "  (459, 8),\n",
       "  (466, 12),\n",
       "  (569, 15),\n",
       "  (714, 7),\n",
       "  (807, 2),\n",
       "  (940, 16)],\n",
       " [(183, 3),\n",
       "  (184, 11),\n",
       "  (204, 0),\n",
       "  (220, 19),\n",
       "  (273, 11),\n",
       "  (275, 12),\n",
       "  (533, 17),\n",
       "  (669, 12),\n",
       "  (678, 1)],\n",
       " [(27, 14),\n",
       "  (130, 3),\n",
       "  (175, 19),\n",
       "  (285, 12),\n",
       "  (305, 7),\n",
       "  (477, 3),\n",
       "  (633, 13),\n",
       "  (707, 5),\n",
       "  (864, 9),\n",
       "  (970, 8)],\n",
       " [(13, 14),\n",
       "  (386, 12),\n",
       "  (466, 3),\n",
       "  (467, 19),\n",
       "  (533, 15),\n",
       "  (539, 18),\n",
       "  (614, 10),\n",
       "  (620, 8),\n",
       "  (655, 2),\n",
       "  (799, 4),\n",
       "  (902, 16)],\n",
       " [(24, 16),\n",
       "  (55, 3),\n",
       "  (64, 19),\n",
       "  (94, 19),\n",
       "  (160, 10),\n",
       "  (294, 11),\n",
       "  (545, 18),\n",
       "  (746, 10)],\n",
       " [(79, 11),\n",
       "  (98, 9),\n",
       "  (163, 0),\n",
       "  (191, 12),\n",
       "  (410, 3),\n",
       "  (454, 19),\n",
       "  (477, 6),\n",
       "  (781, 17),\n",
       "  (796, 10)],\n",
       " [(66, 0),\n",
       "  (110, 10),\n",
       "  (267, 9),\n",
       "  (279, 3),\n",
       "  (337, 19),\n",
       "  (365, 5),\n",
       "  (404, 1),\n",
       "  (514, 5),\n",
       "  (637, 11),\n",
       "  (832, 7),\n",
       "  (986, 1)],\n",
       " [(95, 7),\n",
       "  (310, 14),\n",
       "  (347, 3),\n",
       "  (348, 3),\n",
       "  (376, 19),\n",
       "  (458, 13),\n",
       "  (536, 4),\n",
       "  (674, 16),\n",
       "  (890, 15),\n",
       "  (909, 14),\n",
       "  (920, 0)],\n",
       " [(128, 9),\n",
       "  (340, 4),\n",
       "  (411, 19),\n",
       "  (416, 3),\n",
       "  (476, 4),\n",
       "  (649, 18),\n",
       "  (791, 10),\n",
       "  (803, 18),\n",
       "  (965, 1)],\n",
       " [(64, 3),\n",
       "  (155, 0),\n",
       "  (211, 8),\n",
       "  (391, 3),\n",
       "  (430, 4),\n",
       "  (459, 19),\n",
       "  (470, 18),\n",
       "  (537, 17),\n",
       "  (855, 8)],\n",
       " [(20, 3), (25, 19), (29, 8), (390, 7), (514, 19), (626, 11), (737, 10)],\n",
       " [(55, 3),\n",
       "  (58, 2),\n",
       "  (117, 19),\n",
       "  (161, 13),\n",
       "  (163, 4),\n",
       "  (450, 8),\n",
       "  (567, 11),\n",
       "  (805, 12),\n",
       "  (946, 16)],\n",
       " [(97, 1),\n",
       "  (273, 3),\n",
       "  (287, 19),\n",
       "  (410, 16),\n",
       "  (413, 7),\n",
       "  (431, 8),\n",
       "  (481, 16),\n",
       "  (554, 0),\n",
       "  (688, 1),\n",
       "  (997, 6)],\n",
       " [(22, 7),\n",
       "  (202, 8),\n",
       "  (223, 3),\n",
       "  (251, 19),\n",
       "  (410, 19),\n",
       "  (542, 15),\n",
       "  (581, 2),\n",
       "  (598, 4),\n",
       "  (932, 17)],\n",
       " [(102, 12),\n",
       "  (114, 3),\n",
       "  (118, 19),\n",
       "  (132, 12),\n",
       "  (362, 12),\n",
       "  (492, 13),\n",
       "  (614, 10),\n",
       "  (776, 19),\n",
       "  (815, 5),\n",
       "  (944, 3)],\n",
       " [(11, 10),\n",
       "  (105, 3),\n",
       "  (141, 19),\n",
       "  (388, 16),\n",
       "  (411, 4),\n",
       "  (583, 5),\n",
       "  (588, 3),\n",
       "  (684, 4),\n",
       "  (745, 17),\n",
       "  (860, 9),\n",
       "  (996, 8)],\n",
       " [(119, 3),\n",
       "  (120, 19),\n",
       "  (134, 0),\n",
       "  (205, 5),\n",
       "  (265, 13),\n",
       "  (429, 14),\n",
       "  (606, 8),\n",
       "  (614, 12),\n",
       "  (813, 1),\n",
       "  (813, 16),\n",
       "  (859, 19)],\n",
       " [(85, 7),\n",
       "  (225, 8),\n",
       "  (269, 10),\n",
       "  (365, 3),\n",
       "  (394, 19),\n",
       "  (454, 15),\n",
       "  (941, 12),\n",
       "  (949, 8),\n",
       "  (957, 3),\n",
       "  (971, 18),\n",
       "  (971, 7)],\n",
       " [(66, 6),\n",
       "  (137, 0),\n",
       "  (321, 17),\n",
       "  (377, 0),\n",
       "  (420, 3),\n",
       "  (452, 19),\n",
       "  (462, 4),\n",
       "  (596, 16),\n",
       "  (871, 15)],\n",
       " [(3, 10),\n",
       "  (233, 3),\n",
       "  (246, 19),\n",
       "  (356, 19),\n",
       "  (411, 11),\n",
       "  (458, 18),\n",
       "  (606, 17),\n",
       "  (657, 12),\n",
       "  (673, 5),\n",
       "  (705, 15)],\n",
       " [(84, 10),\n",
       "  (275, 7),\n",
       "  (324, 6),\n",
       "  (326, 3),\n",
       "  (350, 9),\n",
       "  (351, 19),\n",
       "  (432, 8),\n",
       "  (586, 17),\n",
       "  (753, 10)],\n",
       " [(19, 14),\n",
       "  (168, 6),\n",
       "  (295, 14),\n",
       "  (320, 12),\n",
       "  (330, 4),\n",
       "  (424, 3),\n",
       "  (484, 19),\n",
       "  (607, 4),\n",
       "  (652, 9)],\n",
       " [(106, 3),\n",
       "  (133, 19),\n",
       "  (264, 16),\n",
       "  (361, 12),\n",
       "  (363, 6),\n",
       "  (600, 14),\n",
       "  (627, 18),\n",
       "  (629, 17),\n",
       "  (682, 16)],\n",
       " [(368, 3),\n",
       "  (371, 10),\n",
       "  (373, 19),\n",
       "  (391, 4),\n",
       "  (396, 10),\n",
       "  (426, 0),\n",
       "  (530, 1),\n",
       "  (824, 2),\n",
       "  (952, 12)],\n",
       " [(21, 3),\n",
       "  (61, 3),\n",
       "  (120, 19),\n",
       "  (316, 4),\n",
       "  (552, 10),\n",
       "  (644, 11),\n",
       "  (724, 12),\n",
       "  (904, 1),\n",
       "  (947, 15)],\n",
       " [(27, 1),\n",
       "  (55, 3),\n",
       "  (219, 11),\n",
       "  (235, 3),\n",
       "  (273, 0),\n",
       "  (297, 19),\n",
       "  (303, 4),\n",
       "  (427, 6),\n",
       "  (712, 6),\n",
       "  (995, 18)],\n",
       " [(58, 5),\n",
       "  (72, 9),\n",
       "  (179, 1),\n",
       "  (246, 7),\n",
       "  (350, 5),\n",
       "  (370, 3),\n",
       "  (398, 19),\n",
       "  (537, 17),\n",
       "  (557, 19),\n",
       "  (883, 3)],\n",
       " [(42, 17),\n",
       "  (94, 7),\n",
       "  (309, 13),\n",
       "  (437, 3),\n",
       "  (486, 19),\n",
       "  (494, 9),\n",
       "  (781, 0),\n",
       "  (791, 8),\n",
       "  (995, 9)],\n",
       " [(80, 11),\n",
       "  (192, 3),\n",
       "  (238, 19),\n",
       "  (448, 19),\n",
       "  (481, 16),\n",
       "  (586, 8),\n",
       "  (778, 5),\n",
       "  (877, 6),\n",
       "  (931, 16),\n",
       "  (936, 5)],\n",
       " [(372, 6),\n",
       "  (425, 19),\n",
       "  (426, 3),\n",
       "  (568, 0),\n",
       "  (628, 2),\n",
       "  (774, 6),\n",
       "  (777, 17),\n",
       "  (919, 7),\n",
       "  (922, 1),\n",
       "  (936, 13)],\n",
       " [(103, 16),\n",
       "  (295, 3),\n",
       "  (338, 19),\n",
       "  (448, 6),\n",
       "  (533, 0),\n",
       "  (545, 19),\n",
       "  (730, 5),\n",
       "  (749, 17),\n",
       "  (854, 10),\n",
       "  (929, 16)],\n",
       " [(227, 1),\n",
       "  (308, 3),\n",
       "  (349, 19),\n",
       "  (352, 14),\n",
       "  (532, 2),\n",
       "  (680, 7),\n",
       "  (691, 12),\n",
       "  (727, 12),\n",
       "  (808, 17),\n",
       "  (858, 6)],\n",
       " [(82, 3),\n",
       "  (199, 9),\n",
       "  (307, 3),\n",
       "  (308, 19),\n",
       "  (330, 16),\n",
       "  (567, 0),\n",
       "  (577, 13),\n",
       "  (595, 13),\n",
       "  (632, 3),\n",
       "  (885, 11)],\n",
       " [(9, 14),\n",
       "  (24, 16),\n",
       "  (129, 18),\n",
       "  (336, 19),\n",
       "  (336, 3),\n",
       "  (423, 19),\n",
       "  (499, 7),\n",
       "  (729, 9),\n",
       "  (974, 14)],\n",
       " [(5, 3),\n",
       "  (49, 19),\n",
       "  (116, 15),\n",
       "  (268, 10),\n",
       "  (527, 4),\n",
       "  (629, 14),\n",
       "  (789, 19),\n",
       "  (807, 9)],\n",
       " [(60, 18),\n",
       "  (66, 10),\n",
       "  (395, 3),\n",
       "  (431, 19),\n",
       "  (466, 10),\n",
       "  (588, 9),\n",
       "  (656, 2),\n",
       "  (693, 4),\n",
       "  (848, 16),\n",
       "  (982, 5)],\n",
       " [(123, 12),\n",
       "  (209, 18),\n",
       "  (275, 3),\n",
       "  (311, 19),\n",
       "  (401, 17),\n",
       "  (429, 3),\n",
       "  (516, 0),\n",
       "  (972, 10)],\n",
       " [(183, 3),\n",
       "  (205, 19),\n",
       "  (210, 3),\n",
       "  (724, 17),\n",
       "  (731, 16),\n",
       "  (747, 14),\n",
       "  (797, 10),\n",
       "  (860, 10),\n",
       "  (915, 13),\n",
       "  (957, 1)],\n",
       " [(143, 6),\n",
       "  (166, 19),\n",
       "  (169, 3),\n",
       "  (229, 14),\n",
       "  (265, 11),\n",
       "  (450, 10),\n",
       "  (503, 1),\n",
       "  (800, 16),\n",
       "  (862, 10)],\n",
       " [(150, 4),\n",
       "  (213, 8),\n",
       "  (288, 18),\n",
       "  (303, 3),\n",
       "  (366, 19),\n",
       "  (544, 17),\n",
       "  (723, 0),\n",
       "  (945, 17)],\n",
       " [(61, 3),\n",
       "  (91, 19),\n",
       "  (294, 1),\n",
       "  (419, 1),\n",
       "  (478, 4),\n",
       "  (606, 12),\n",
       "  (669, 9),\n",
       "  (858, 4),\n",
       "  (876, 17)],\n",
       " [(39, 3),\n",
       "  (124, 5),\n",
       "  (146, 13),\n",
       "  (373, 12),\n",
       "  (379, 3),\n",
       "  (419, 19),\n",
       "  (504, 4),\n",
       "  (541, 5),\n",
       "  (632, 14)],\n",
       " [(94, 11),\n",
       "  (372, 3),\n",
       "  (423, 19),\n",
       "  (440, 19),\n",
       "  (462, 4),\n",
       "  (484, 17),\n",
       "  (821, 10),\n",
       "  (877, 3)],\n",
       " [(331, 19),\n",
       "  (335, 3),\n",
       "  (352, 14),\n",
       "  (546, 5),\n",
       "  (765, 4),\n",
       "  (803, 8),\n",
       "  (908, 1),\n",
       "  (945, 18),\n",
       "  (968, 14)],\n",
       " [(30, 19),\n",
       "  (52, 1),\n",
       "  (99, 9),\n",
       "  (225, 3),\n",
       "  (283, 19),\n",
       "  (352, 7),\n",
       "  (519, 15),\n",
       "  (876, 9),\n",
       "  (915, 16)],\n",
       " [(173, 4),\n",
       "  (210, 2),\n",
       "  (272, 19),\n",
       "  (277, 3),\n",
       "  (312, 4),\n",
       "  (458, 5),\n",
       "  (481, 4),\n",
       "  (699, 6),\n",
       "  (992, 5)],\n",
       " [(75, 3),\n",
       "  (93, 12),\n",
       "  (197, 3),\n",
       "  (234, 19),\n",
       "  (337, 18),\n",
       "  (675, 9),\n",
       "  (697, 3),\n",
       "  (855, 17),\n",
       "  (882, 11),\n",
       "  (945, 0)],\n",
       " [(212, 10),\n",
       "  (292, 3),\n",
       "  (316, 19),\n",
       "  (342, 7),\n",
       "  (344, 6),\n",
       "  (508, 2),\n",
       "  (656, 7),\n",
       "  (822, 11),\n",
       "  (825, 7),\n",
       "  (861, 3),\n",
       "  (869, 7),\n",
       "  (892, 13)],\n",
       " [(42, 3),\n",
       "  (72, 19),\n",
       "  (127, 16),\n",
       "  (276, 3),\n",
       "  (314, 3),\n",
       "  (374, 19),\n",
       "  (560, 6),\n",
       "  (566, 8),\n",
       "  (686, 1),\n",
       "  (811, 12),\n",
       "  (965, 18)],\n",
       " [(185, 3),\n",
       "  (204, 19),\n",
       "  (210, 18),\n",
       "  (307, 19),\n",
       "  (462, 8),\n",
       "  (676, 14),\n",
       "  (713, 9),\n",
       "  (726, 18),\n",
       "  (875, 5),\n",
       "  (878, 18)],\n",
       " [(27, 10),\n",
       "  (156, 0),\n",
       "  (167, 9),\n",
       "  (201, 4),\n",
       "  (233, 3),\n",
       "  (252, 10),\n",
       "  (283, 19),\n",
       "  (402, 10),\n",
       "  (791, 8)],\n",
       " [(49, 3),\n",
       "  (72, 13),\n",
       "  (114, 10),\n",
       "  (192, 3),\n",
       "  (193, 1),\n",
       "  (205, 19),\n",
       "  (237, 5),\n",
       "  (394, 19),\n",
       "  (816, 0),\n",
       "  (909, 10)],\n",
       " [(84, 13),\n",
       "  (213, 4),\n",
       "  (221, 3),\n",
       "  (289, 19),\n",
       "  (448, 9),\n",
       "  (648, 6),\n",
       "  (744, 8),\n",
       "  (795, 8),\n",
       "  (869, 14)],\n",
       " [(198, 6),\n",
       "  (244, 2),\n",
       "  (406, 3),\n",
       "  (438, 19),\n",
       "  (463, 9),\n",
       "  (472, 14),\n",
       "  (498, 19),\n",
       "  (604, 12),\n",
       "  (706, 19),\n",
       "  (731, 7),\n",
       "  (801, 1)],\n",
       " [(23, 3),\n",
       "  (29, 19),\n",
       "  (173, 8),\n",
       "  (187, 13),\n",
       "  (325, 12),\n",
       "  (358, 4),\n",
       "  (392, 12),\n",
       "  (612, 7),\n",
       "  (734, 0),\n",
       "  (751, 16),\n",
       "  (928, 14)],\n",
       " [(317, 18),\n",
       "  (320, 3),\n",
       "  (351, 19),\n",
       "  (379, 7),\n",
       "  (511, 3),\n",
       "  (520, 11),\n",
       "  (652, 7),\n",
       "  (729, 17),\n",
       "  (858, 19),\n",
       "  (900, 13)],\n",
       " [(25, 7),\n",
       "  (53, 19),\n",
       "  (63, 2),\n",
       "  (202, 6),\n",
       "  (222, 13),\n",
       "  (228, 13),\n",
       "  (293, 3),\n",
       "  (342, 19),\n",
       "  (418, 2),\n",
       "  (426, 19)],\n",
       " [(54, 14),\n",
       "  (192, 11),\n",
       "  (244, 3),\n",
       "  (261, 19),\n",
       "  (270, 19),\n",
       "  (291, 17),\n",
       "  (294, 11),\n",
       "  (410, 17),\n",
       "  (512, 14),\n",
       "  (967, 2)],\n",
       " [(280, 3),\n",
       "  (296, 6),\n",
       "  (350, 19),\n",
       "  (478, 15),\n",
       "  (543, 14),\n",
       "  (636, 15),\n",
       "  (812, 1),\n",
       "  (904, 19)],\n",
       " [(83, 9),\n",
       "  (167, 8),\n",
       "  (208, 14),\n",
       "  (373, 3),\n",
       "  (384, 19),\n",
       "  (449, 8),\n",
       "  (506, 15),\n",
       "  (621, 7),\n",
       "  (716, 6),\n",
       "  (861, 14)],\n",
       " [(152, 17),\n",
       "  (221, 3),\n",
       "  (302, 14),\n",
       "  (331, 2),\n",
       "  (368, 3),\n",
       "  (497, 3),\n",
       "  (499, 19),\n",
       "  (705, 18),\n",
       "  (808, 14)],\n",
       " [(26, 3),\n",
       "  (38, 19),\n",
       "  (103, 16),\n",
       "  (179, 19),\n",
       "  (398, 0),\n",
       "  (409, 1),\n",
       "  (915, 19),\n",
       "  (929, 11),\n",
       "  (973, 7)],\n",
       " [(221, 17),\n",
       "  (238, 16),\n",
       "  (333, 3),\n",
       "  (356, 19),\n",
       "  (401, 11),\n",
       "  (477, 15),\n",
       "  (653, 18),\n",
       "  (663, 5),\n",
       "  (803, 0)],\n",
       " [(0, 19),\n",
       "  (0, 3),\n",
       "  (184, 14),\n",
       "  (365, 17),\n",
       "  (772, 12),\n",
       "  (806, 14),\n",
       "  (825, 14),\n",
       "  (902, 2),\n",
       "  (955, 9)],\n",
       " [(102, 3),\n",
       "  (120, 19),\n",
       "  (312, 4),\n",
       "  (435, 9),\n",
       "  (441, 16),\n",
       "  (578, 3),\n",
       "  (587, 16),\n",
       "  (589, 9),\n",
       "  (804, 6),\n",
       "  (917, 4)],\n",
       " [(101, 4),\n",
       "  (125, 3),\n",
       "  (211, 15),\n",
       "  (269, 12),\n",
       "  (374, 3),\n",
       "  (377, 7),\n",
       "  (402, 19),\n",
       "  (438, 6),\n",
       "  (594, 7)],\n",
       " [(131, 4),\n",
       "  (197, 18),\n",
       "  (206, 5),\n",
       "  (317, 4),\n",
       "  (409, 12),\n",
       "  (463, 3),\n",
       "  (494, 19),\n",
       "  (783, 13),\n",
       "  (972, 2)],\n",
       " [(65, 6),\n",
       "  (177, 19),\n",
       "  (291, 12),\n",
       "  (309, 16),\n",
       "  (428, 3),\n",
       "  (448, 19),\n",
       "  (701, 4),\n",
       "  (817, 17),\n",
       "  (940, 18),\n",
       "  (982, 2)],\n",
       " [(59, 3),\n",
       "  (74, 19),\n",
       "  (77, 3),\n",
       "  (332, 0),\n",
       "  (353, 8),\n",
       "  (371, 13),\n",
       "  (421, 14),\n",
       "  (473, 19),\n",
       "  (664, 3)],\n",
       " [(43, 3),\n",
       "  (55, 19),\n",
       "  (68, 19),\n",
       "  (232, 19),\n",
       "  (336, 14),\n",
       "  (419, 13),\n",
       "  (797, 0),\n",
       "  (879, 12),\n",
       "  (959, 9),\n",
       "  (976, 8)],\n",
       " [(3, 19),\n",
       "  (3, 3),\n",
       "  (365, 10),\n",
       "  (422, 11),\n",
       "  (464, 5),\n",
       "  (506, 15),\n",
       "  (567, 0),\n",
       "  (751, 10),\n",
       "  (754, 16),\n",
       "  (774, 11),\n",
       "  (864, 2)],\n",
       " [(29, 3),\n",
       "  (47, 19),\n",
       "  (215, 3),\n",
       "  (256, 13),\n",
       "  (282, 6),\n",
       "  (299, 18),\n",
       "  (342, 17),\n",
       "  (382, 8),\n",
       "  (384, 10),\n",
       "  (576, 0)],\n",
       " [(52, 19),\n",
       "  (120, 7),\n",
       "  (126, 3),\n",
       "  (135, 19),\n",
       "  (244, 7),\n",
       "  (354, 8),\n",
       "  (455, 5),\n",
       "  (690, 11),\n",
       "  (991, 13)],\n",
       " [(52, 3),\n",
       "  (59, 12),\n",
       "  (73, 19),\n",
       "  (113, 2),\n",
       "  (252, 5),\n",
       "  (379, 18),\n",
       "  (675, 16),\n",
       "  (683, 11),\n",
       "  (801, 16)],\n",
       " [(17, 0),\n",
       "  (131, 17),\n",
       "  (188, 14),\n",
       "  (259, 3),\n",
       "  (286, 19),\n",
       "  (357, 15),\n",
       "  (362, 18),\n",
       "  (395, 5),\n",
       "  (624, 1),\n",
       "  (728, 18),\n",
       "  (960, 18)],\n",
       " [(83, 3),\n",
       "  (94, 19),\n",
       "  (127, 8),\n",
       "  (144, 18),\n",
       "  (257, 14),\n",
       "  (544, 19),\n",
       "  (651, 2),\n",
       "  (882, 12),\n",
       "  (995, 1)],\n",
       " [(72, 18),\n",
       "  (195, 17),\n",
       "  (238, 0),\n",
       "  (256, 3),\n",
       "  (280, 19),\n",
       "  (530, 19),\n",
       "  (656, 15),\n",
       "  (685, 16),\n",
       "  (765, 19),\n",
       "  (875, 17)],\n",
       " [(160, 19),\n",
       "  (210, 16),\n",
       "  (259, 8),\n",
       "  (266, 3),\n",
       "  (322, 19),\n",
       "  (434, 7),\n",
       "  (538, 7),\n",
       "  (538, 1),\n",
       "  (882, 9),\n",
       "  (924, 16)],\n",
       " [(108, 13),\n",
       "  (110, 3),\n",
       "  (176, 19),\n",
       "  (328, 6),\n",
       "  (396, 2),\n",
       "  (497, 3),\n",
       "  (581, 4),\n",
       "  (984, 12)],\n",
       " [(127, 12),\n",
       "  (188, 2),\n",
       "  (327, 12),\n",
       "  (355, 14),\n",
       "  (406, 3),\n",
       "  (410, 19),\n",
       "  (434, 4),\n",
       "  (670, 7),\n",
       "  (931, 8)],\n",
       " [(97, 3),\n",
       "  (132, 19),\n",
       "  (141, 0),\n",
       "  (252, 4),\n",
       "  (303, 6),\n",
       "  (331, 14),\n",
       "  (334, 5),\n",
       "  (493, 19),\n",
       "  (808, 7),\n",
       "  (923, 10),\n",
       "  (958, 16)],\n",
       " [(23, 13),\n",
       "  (74, 3),\n",
       "  (129, 19),\n",
       "  (138, 7),\n",
       "  (150, 9),\n",
       "  (154, 17),\n",
       "  (239, 12),\n",
       "  (740, 2),\n",
       "  (749, 9),\n",
       "  (962, 5)],\n",
       " [(8, 14),\n",
       "  (102, 1),\n",
       "  (177, 14),\n",
       "  (185, 3),\n",
       "  (234, 19),\n",
       "  (289, 1),\n",
       "  (356, 14),\n",
       "  (435, 0),\n",
       "  (599, 4),\n",
       "  (665, 3),\n",
       "  (742, 3)],\n",
       " [(33, 3),\n",
       "  (34, 19),\n",
       "  (162, 5),\n",
       "  (171, 10),\n",
       "  (181, 17),\n",
       "  (205, 19),\n",
       "  (226, 5),\n",
       "  (549, 15),\n",
       "  (690, 1),\n",
       "  (705, 11),\n",
       "  (736, 12)],\n",
       " [(15, 1),\n",
       "  (91, 3),\n",
       "  (188, 3),\n",
       "  (202, 16),\n",
       "  (245, 19),\n",
       "  (567, 9),\n",
       "  (578, 9),\n",
       "  (710, 1),\n",
       "  (841, 16)],\n",
       " [(38, 18),\n",
       "  (68, 12),\n",
       "  (121, 18),\n",
       "  (273, 2),\n",
       "  (313, 15),\n",
       "  (322, 3),\n",
       "  (347, 19),\n",
       "  (351, 5),\n",
       "  (619, 11),\n",
       "  (827, 6),\n",
       "  (938, 5)],\n",
       " [(53, 1),\n",
       "  (140, 8),\n",
       "  (283, 3),\n",
       "  (328, 19),\n",
       "  (570, 17),\n",
       "  (579, 9),\n",
       "  (743, 7),\n",
       "  (778, 13),\n",
       "  (859, 12),\n",
       "  (879, 11)],\n",
       " [(183, 16),\n",
       "  (362, 3),\n",
       "  (410, 19),\n",
       "  (415, 1),\n",
       "  (495, 1),\n",
       "  (499, 11),\n",
       "  (561, 11),\n",
       "  (720, 9),\n",
       "  (825, 13),\n",
       "  (841, 12),\n",
       "  (965, 17)]]"
      ]
     },
     "execution_count": 49,
     "metadata": {},
     "output_type": "execute_result"
    }
   ],
   "source": [
    "trainseq=[ extract(line) for line in DB ]\n",
    "trainseq"
   ]
  },
  {
   "cell_type": "code",
   "execution_count": null,
   "metadata": {},
   "outputs": [],
   "source": []
  }
 ],
 "metadata": {
  "kernelspec": {
   "display_name": "Python 3",
   "language": "python",
   "name": "python3"
  },
  "language_info": {
   "codemirror_mode": {
    "name": "ipython",
    "version": 3
   },
   "file_extension": ".py",
   "mimetype": "text/x-python",
   "name": "python",
   "nbconvert_exporter": "python",
   "pygments_lexer": "ipython3",
   "version": "3.7.3"
  }
 },
 "nbformat": 4,
 "nbformat_minor": 2
}
